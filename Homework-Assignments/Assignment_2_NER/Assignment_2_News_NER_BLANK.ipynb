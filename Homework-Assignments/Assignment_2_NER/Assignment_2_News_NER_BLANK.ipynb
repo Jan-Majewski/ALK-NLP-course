{
 "cells": [
  {
   "cell_type": "code",
   "execution_count": 2,
   "id": "0b028c61",
   "metadata": {},
   "outputs": [],
   "source": [
    "import pandas as pd\n",
    "import numpy as np\n",
    "import json\n",
    "import random\n",
    "import spacy\n",
    "from tqdm import tqdm\n",
    "import pickle"
   ]
  },
  {
   "cell_type": "code",
   "execution_count": 3,
   "id": "0111de99",
   "metadata": {},
   "outputs": [],
   "source": [
    "import math\n",
    "from sklearn.model_selection import train_test_split"
   ]
  },
  {
   "cell_type": "code",
   "execution_count": 4,
   "id": "f6178ad6",
   "metadata": {},
   "outputs": [],
   "source": [
    "from spacy.tokens import Doc"
   ]
  },
  {
   "cell_type": "code",
   "execution_count": 5,
   "id": "d1126bac",
   "metadata": {},
   "outputs": [],
   "source": [
    "from spacy.training import Example"
   ]
  },
  {
   "cell_type": "code",
   "execution_count": 6,
   "id": "f6563c67",
   "metadata": {},
   "outputs": [],
   "source": [
    "import os\n",
    "\n",
    "os.environ['KMP_DUPLICATE_LIB_OK']='True'"
   ]
  },
  {
   "cell_type": "markdown",
   "id": "9cbec975",
   "metadata": {},
   "source": [
    "# Task description"
   ]
  },
  {
   "cell_type": "markdown",
   "id": "737bdd17",
   "metadata": {},
   "source": [
    "- train NER model to extract geo, gpe, tim and nat entities\n",
    "- experiment with different language model sizes\n",
    "- experiment with DROPOUT and epochs to get the best test set results\n",
    "- analize learning curves and performance per entity"
   ]
  },
  {
   "cell_type": "markdown",
   "id": "b29a96ca",
   "metadata": {},
   "source": [
    "News entities\n",
    "- geo = Geographical Entity\n",
    "- gpe = Geopolitical Entity\n",
    "- tim = Time indicator\n",
    "- nat = Natural Phenomenon"
   ]
  },
  {
   "cell_type": "markdown",
   "id": "a7502420",
   "metadata": {},
   "source": [
    "# Prepare NER data"
   ]
  },
  {
   "cell_type": "code",
   "execution_count": 9,
   "id": "f17bbb71",
   "metadata": {},
   "outputs": [],
   "source": [
    "with open('../assignment_data/GMB_data_spacy_geo.pickle', 'rb') as f:\n",
    "     spacy_data = pickle.load(f)"
   ]
  },
  {
   "cell_type": "code",
   "execution_count": 7,
   "id": "290c9f05",
   "metadata": {},
   "outputs": [
    {
     "data": {
      "text/plain": [
       "35177"
      ]
     },
     "execution_count": 7,
     "metadata": {},
     "output_type": "execute_result"
    }
   ],
   "source": [
    "len(spacy_data)"
   ]
  },
  {
   "cell_type": "code",
   "execution_count": 8,
   "id": "6a87e187",
   "metadata": {},
   "outputs": [
    {
     "data": {
      "text/plain": [
       "{'entities': [(0, 7, 'geo'),\n",
       "  (42, 49, 'gpe'),\n",
       "  (97, 103, 'geo'),\n",
       "  (104, 110, 'tim')]}"
      ]
     },
     "execution_count": 8,
     "metadata": {},
     "output_type": "execute_result"
    }
   ],
   "source": [
    "spacy_data[35000][1]"
   ]
  },
  {
   "cell_type": "markdown",
   "id": "64589ef5",
   "metadata": {},
   "source": [
    "## Test train split"
   ]
  },
  {
   "cell_type": "code",
   "execution_count": null,
   "id": "ff02de7f",
   "metadata": {},
   "outputs": [],
   "source": [
    "# Divide spacy into train and test sets"
   ]
  },
  {
   "cell_type": "code",
   "execution_count": 9,
   "id": "2c274e9a",
   "metadata": {},
   "outputs": [],
   "source": []
  },
  {
   "cell_type": "code",
   "execution_count": 10,
   "id": "0521b07e",
   "metadata": {},
   "outputs": [
    {
     "data": {
      "text/plain": [
       "[(57, 66, 'geo')]"
      ]
     },
     "execution_count": 10,
     "metadata": {},
     "output_type": "execute_result"
    }
   ],
   "source": []
  },
  {
   "cell_type": "markdown",
   "id": "16012f23",
   "metadata": {},
   "source": [
    "## NER model setup"
   ]
  },
  {
   "cell_type": "code",
   "execution_count": 11,
   "id": "a4659a48",
   "metadata": {},
   "outputs": [],
   "source": [
    "# Setup model - experiment with sm, md, lg\n",
    "nlp = spacy.load(...)\n",
    "ner = nlp.create_pipe('ner')"
   ]
  },
  {
   "cell_type": "code",
   "execution_count": 12,
   "id": "ad43f9f6",
   "metadata": {},
   "outputs": [],
   "source": [
    "def split_examples_to_batches(examples, batch_size):\n",
    "    batches=[]\n",
    "    for i in range(0, math.ceil(len(examples)/batch_size)):\n",
    "        start=i*batch_size\n",
    "        end = start+batch_size\n",
    "        batches.append(examples[start:end])\n",
    "    return batches"
   ]
  },
  {
   "cell_type": "code",
   "execution_count": 13,
   "id": "2d746888",
   "metadata": {},
   "outputs": [],
   "source": [
    "def prepare_examples(data):\n",
    "    examples = []\n",
    "    for i in range(0, len(data)):\n",
    "        raw_text, entity_offsets = data[i]\n",
    "\n",
    "        try:\n",
    "\n",
    "            doc= nlp.make_doc(raw_text.lower())\n",
    "            example_test = Example.from_dict(doc, entity_offsets)\n",
    "            examples.append(example_test)\n",
    "           \n",
    "        except Exception as e:\n",
    "            print(e)\n",
    "            pass\n",
    "    return examples"
   ]
  },
  {
   "cell_type": "code",
   "execution_count": 14,
   "id": "c754122b",
   "metadata": {},
   "outputs": [],
   "source": [
    "# prepare examples\n",
    "examples_train = ...\n",
    "examples_test = ..."
   ]
  },
  {
   "cell_type": "code",
   "execution_count": 15,
   "id": "1eb83a6d",
   "metadata": {},
   "outputs": [],
   "source": [
    "other_pipes = [pipe for pipe in nlp.pipe_names if pipe != 'ner']"
   ]
  },
  {
   "cell_type": "markdown",
   "id": "6ab2058e",
   "metadata": {},
   "source": [
    "### Add labels"
   ]
  },
  {
   "cell_type": "code",
   "execution_count": 16,
   "id": "940ccbbf",
   "metadata": {},
   "outputs": [],
   "source": [
    "for _, annotations in spacy_data:\n",
    "    for ent in annotations.get('entities'):\n",
    "        ner.add_label(ent[2])"
   ]
  },
  {
   "cell_type": "code",
   "execution_count": 17,
   "id": "303b401f",
   "metadata": {},
   "outputs": [
    {
     "data": {
      "text/plain": [
       "('geo', 'gpe', 'nat', 'tim')"
      ]
     },
     "execution_count": 17,
     "metadata": {},
     "output_type": "execute_result"
    }
   ],
   "source": [
    "ner.labels"
   ]
  },
  {
   "cell_type": "markdown",
   "id": "d1118c98",
   "metadata": {},
   "source": [
    "# Train model"
   ]
  },
  {
   "cell_type": "code",
   "execution_count": 18,
   "id": "a4bd1b6a",
   "metadata": {},
   "outputs": [],
   "source": [
    "DROPOUT=...\n",
    "epochs = ...\n",
    "\n",
    "batch_size=.."
   ]
  },
  {
   "cell_type": "code",
   "execution_count": null,
   "id": "fcd740f8",
   "metadata": {},
   "outputs": [],
   "source": []
  },
  {
   "cell_type": "code",
   "execution_count": null,
   "id": "e796681c",
   "metadata": {},
   "outputs": [],
   "source": []
  },
  {
   "cell_type": "markdown",
   "id": "ef730cc5",
   "metadata": {},
   "source": [
    "## Evaluate model"
   ]
  },
  {
   "cell_type": "code",
   "execution_count": null,
   "id": "cb91e8f2",
   "metadata": {},
   "outputs": [],
   "source": []
  },
  {
   "cell_type": "code",
   "execution_count": null,
   "id": "3fd262a1",
   "metadata": {},
   "outputs": [],
   "source": []
  },
  {
   "cell_type": "code",
   "execution_count": null,
   "id": "3388bfd7",
   "metadata": {},
   "outputs": [],
   "source": []
  },
  {
   "cell_type": "code",
   "execution_count": null,
   "id": "c62f39e7",
   "metadata": {},
   "outputs": [],
   "source": []
  },
  {
   "cell_type": "markdown",
   "id": "0047ec13",
   "metadata": {},
   "source": [
    "# Make predictions"
   ]
  },
  {
   "cell_type": "code",
   "execution_count": null,
   "id": "0cafe144",
   "metadata": {},
   "outputs": [],
   "source": []
  },
  {
   "cell_type": "code",
   "execution_count": null,
   "id": "c39037d8",
   "metadata": {},
   "outputs": [],
   "source": []
  }
 ],
 "metadata": {
  "kernelspec": {
   "display_name": "Python 3 (ipykernel)",
   "language": "python",
   "name": "python3"
  },
  "language_info": {
   "codemirror_mode": {
    "name": "ipython",
    "version": 3
   },
   "file_extension": ".py",
   "mimetype": "text/x-python",
   "name": "python",
   "nbconvert_exporter": "python",
   "pygments_lexer": "ipython3",
   "version": "3.11.3"
  },
  "toc": {
   "base_numbering": 1,
   "nav_menu": {},
   "number_sections": true,
   "sideBar": true,
   "skip_h1_title": false,
   "title_cell": "Table of Contents",
   "title_sidebar": "Contents",
   "toc_cell": false,
   "toc_position": {},
   "toc_section_display": true,
   "toc_window_display": false
  }
 },
 "nbformat": 4,
 "nbformat_minor": 5
}
