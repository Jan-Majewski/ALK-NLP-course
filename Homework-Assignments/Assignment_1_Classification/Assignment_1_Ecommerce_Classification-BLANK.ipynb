{
 "cells": [
  {
   "cell_type": "markdown",
   "id": "cd894012",
   "metadata": {},
   "source": [
    "## Imports"
   ]
  },
  {
   "cell_type": "code",
   "execution_count": null,
   "id": "6026c81e",
   "metadata": {},
   "outputs": [],
   "source": [
    "import pandas as pd\n",
    "import numpy as np\n",
    "import os\n",
    "import math\n",
    "import random\n",
    "import matplotlib.pyplot as plt\n",
    "import spacy\n",
    "from spacy.tokens import Doc\n",
    "from spacy.util import minibatch\n",
    "from spacy.training import Example\n",
    "import seaborn as sns"
   ]
  },
  {
   "cell_type": "code",
   "execution_count": 2,
   "id": "470f80f2",
   "metadata": {},
   "outputs": [],
   "source": [
    "os.environ['KMP_DUPLICATE_LIB_OK']='True'"
   ]
  },
  {
   "cell_type": "markdown",
   "id": "e0e752cf",
   "metadata": {},
   "source": [
    "## Prepare data"
   ]
  },
  {
   "cell_type": "code",
   "execution_count": 6,
   "id": "d793a97f",
   "metadata": {},
   "outputs": [],
   "source": [
    "# Load data and remove longest texts\n",
    "data = pd.read_csv(\"assignment_data/ecommerceDataset.csv\", names = [\"category\", \"text\"])\n",
    "data.drop_duplicates(inplace=True)\n",
    "data[\"text_len\"] = data.text.apply(lambda x: len(str(x)))\n",
    "data = data.query(\"text_len<2000\")\n",
    "data.reset_index(inplace=True, drop=True)"
   ]
  },
  {
   "cell_type": "code",
   "execution_count": 7,
   "id": "1946a065",
   "metadata": {},
   "outputs": [],
   "source": [
    "# rename columns\n",
    "data.rename(columns = {\"Category\":\"category\", \"Message\":\"text\"}, inplace=True)\n",
    "\n",
    "data = data.sample(5000)"
   ]
  },
  {
   "cell_type": "code",
   "execution_count": 8,
   "id": "a7a6cd6a",
   "metadata": {},
   "outputs": [],
   "source": [
    "# create empty model\n",
    "nlp = spacy.blank(\"en\")\n",
    "textcat = nlp.add_pipe(\"textcat\")"
   ]
  },
  {
   "cell_type": "code",
   "execution_count": 9,
   "id": "4f9ec9d9",
   "metadata": {},
   "outputs": [],
   "source": [
    "# Ad textcat labels\n",
    "...."
   ]
  },
  {
   "cell_type": "code",
   "execution_count": 10,
   "id": "b2cb9032",
   "metadata": {},
   "outputs": [
    {
     "data": {
      "text/plain": [
       "('Books', 'Electronics', 'Household', 'Clothing & Accessories')"
      ]
     },
     "execution_count": 10,
     "metadata": {},
     "output_type": "execute_result"
    }
   ],
   "source": [
    "nlp.get_pipe(\"textcat\").labels"
   ]
  },
  {
   "cell_type": "code",
   "execution_count": 12,
   "id": "9c841a77",
   "metadata": {},
   "outputs": [],
   "source": [
    "from sklearn.model_selection import train_test_split\n",
    "texts_train, texts_test, labels_train, labels_test = train_test_split(data['text'], data['category'], test_size=0.2, random_state = 7)"
   ]
  },
  {
   "cell_type": "code",
   "execution_count": 13,
   "id": "40e27221",
   "metadata": {},
   "outputs": [],
   "source": [
    "# Reset index\n",
    "texts_train.reset_index(inplace=True, drop=True)\n",
    "labels_train.reset_index(inplace=True, drop=True)\n",
    "texts_test.reset_index(inplace=True, drop=True)\n",
    "labels_test.reset_index(inplace=True, drop=True)"
   ]
  },
  {
   "cell_type": "markdown",
   "id": "73e34106",
   "metadata": {},
   "source": [
    "## Transform data to texcat exammples"
   ]
  },
  {
   "cell_type": "code",
   "execution_count": 14,
   "id": "7b8e1601",
   "metadata": {},
   "outputs": [],
   "source": [
    "def prepare_textcat_examples(texts, labels):\n",
    "    examples = []\n",
    "    texts.reset_index(inplace=True, drop=True)\n",
    "    labels.reset_index(inplace=True, drop=True)\n",
    "    categories = list(labels.unique())\n",
    "    for i in range(0, len(texts)):\n",
    "        text = texts[i]\n",
    "        label = labels[i]\n",
    "        cat_label = {'cats': {category:label==category for category in categories}}\n",
    "        example = Example.from_dict(nlp.make_doc(text), cat_label )\n",
    "        examples.append(example)\n",
    "    \n",
    "    return examples"
   ]
  },
  {
   "cell_type": "code",
   "execution_count": 15,
   "id": "e914891b",
   "metadata": {},
   "outputs": [],
   "source": [
    "examples_train =....\n",
    "examples_test = ..."
   ]
  },
  {
   "cell_type": "markdown",
   "id": "7527bb88",
   "metadata": {},
   "source": [
    "## Train models"
   ]
  },
  {
   "cell_type": "code",
   "execution_count": null,
   "id": "b8717930",
   "metadata": {},
   "outputs": [],
   "source": [
    "def split_examples_to_batches(examples, batch_size):\n",
    "    batches=[]\n",
    "    for i in range(0, math.ceil(len(examples)/batch_size)):\n",
    "        start=i*batch_size\n",
    "        end = start+batch_size\n",
    "        batches.append(examples[start:end])\n",
    "    return batches"
   ]
  },
  {
   "cell_type": "code",
   "execution_count": 16,
   "id": "27566250",
   "metadata": {},
   "outputs": [],
   "source": [
    "def train_model(model, examples_train, examples_test, optimizer, batch_size, epochs=10):\n",
    "    .......\n",
    "\n",
    "\n",
    "    return score "
   ]
  },
  {
   "cell_type": "code",
   "execution_count": 17,
   "id": "84827130",
   "metadata": {},
   "outputs": [],
   "source": [
    "def predict_label(text, nlp):\n",
    "    .....\n",
    "    \n",
    "    return  round(proba,2)"
   ]
  },
  {
   "cell_type": "code",
   "execution_count": null,
   "id": "84a9ee51",
   "metadata": {},
   "outputs": [
    {
     "name": "stdout",
     "output_type": "stream",
     "text": [
      "Epoch 0, score: 0.8736673682628899\n",
      "Epoch 1, score: 0.8616440644278566\n",
      "Epoch 2, score: 0.9051062367156428\n",
      "Epoch 3, score: 0.8933740157282066\n",
      "Epoch 4, score: 0.8934424430670718\n",
      "Epoch 5, score: 0.9017098542960611\n",
      "Epoch 6, score: 0.9031760829281325\n",
      "Epoch 7, score: 0.8949423052222242\n"
     ]
    }
   ],
   "source": [
    "optimizer = nlp.begin_training()\n",
    "batch_size = 20\n",
    "epochs = 10\n",
    "\n",
    "# Training the model\n",
    "score  = train_model(nlp, examples_train, examples_test, optimizer, batch_size, epochs)"
   ]
  },
  {
   "cell_type": "markdown",
   "id": "a9f74646",
   "metadata": {},
   "source": [
    "## Evaluate test set performance"
   ]
  },
  {
   "cell_type": "code",
   "execution_count": null,
   "id": "7d5f0658",
   "metadata": {},
   "outputs": [],
   "source": [
    "def get_predictions(texts, textcat):\n",
    "    ....\n",
    "    return df_pred"
   ]
  },
  {
   "cell_type": "code",
   "execution_count": null,
   "id": "e2d151a8",
   "metadata": {},
   "outputs": [],
   "source": [
    "df_pred = get_predictions(texts_test, textcat)"
   ]
  },
  {
   "cell_type": "code",
   "execution_count": null,
   "id": "829ba3a5",
   "metadata": {},
   "outputs": [],
   "source": [
    "from sklearn.metrics import confusion_matrix"
   ]
  },
  {
   "cell_type": "markdown",
   "id": "ccda2806",
   "metadata": {},
   "source": [
    "### Plot confusion matrix"
   ]
  },
  {
   "cell_type": "code",
   "execution_count": null,
   "id": "6f69ee0e",
   "metadata": {},
   "outputs": [],
   "source": [
    "categories = textcat.labels"
   ]
  },
  {
   "cell_type": "code",
   "execution_count": null,
   "id": "cf74548a",
   "metadata": {},
   "outputs": [],
   "source": [
    "cf_matrix = ...."
   ]
  },
  {
   "cell_type": "code",
   "execution_count": null,
   "id": "e74991f4",
   "metadata": {},
   "outputs": [],
   "source": [
    "sns.heatmap(cf_matrix, annot=True,  xticklabels=categories,\n",
    "                yticklabels=categories)"
   ]
  },
  {
   "cell_type": "code",
   "execution_count": null,
   "id": "b4e569ee",
   "metadata": {},
   "outputs": [],
   "source": []
  },
  {
   "cell_type": "code",
   "execution_count": null,
   "id": "b888d956",
   "metadata": {},
   "outputs": [],
   "source": []
  }
 ],
 "metadata": {
  "kernelspec": {
   "display_name": "Python 3 (ipykernel)",
   "language": "python",
   "name": "python3"
  },
  "language_info": {
   "codemirror_mode": {
    "name": "ipython",
    "version": 3
   },
   "file_extension": ".py",
   "mimetype": "text/x-python",
   "name": "python",
   "nbconvert_exporter": "python",
   "pygments_lexer": "ipython3",
   "version": "3.8.12"
  },
  "toc": {
   "base_numbering": 1,
   "nav_menu": {},
   "number_sections": true,
   "sideBar": true,
   "skip_h1_title": false,
   "title_cell": "Table of Contents",
   "title_sidebar": "Contents",
   "toc_cell": false,
   "toc_position": {},
   "toc_section_display": true,
   "toc_window_display": false
  }
 },
 "nbformat": 4,
 "nbformat_minor": 5
}
