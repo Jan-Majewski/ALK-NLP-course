{
 "cells": [
  {
   "cell_type": "code",
   "execution_count": 228,
   "id": "6d939bef",
   "metadata": {},
   "outputs": [],
   "source": [
    "import pandas as pd\n",
    "import numpy as np\n",
    "import json\n",
    "\n",
    "from sklearn.metrics import precision_score, recall_score"
   ]
  },
  {
   "cell_type": "code",
   "execution_count": 236,
   "id": "566e5654",
   "metadata": {},
   "outputs": [
    {
     "name": "stdout",
     "output_type": "stream",
     "text": [
      "C:\\Users\\Jan Majewski\\Documents\\Conferences&Courses\\Kozminski\\ALK-NLP-course\n"
     ]
    }
   ],
   "source": [
    "cd ALK-NLP-course"
   ]
  },
  {
   "cell_type": "markdown",
   "id": "928e99f8",
   "metadata": {},
   "source": [
    "# Read data and scores dict"
   ]
  },
  {
   "cell_type": "code",
   "execution_count": 237,
   "id": "ff83e2ee",
   "metadata": {},
   "outputs": [],
   "source": [
    "df = pd.read_csv(\"data/warm_up_data.csv\")"
   ]
  },
  {
   "cell_type": "code",
   "execution_count": 238,
   "id": "0207dd72",
   "metadata": {},
   "outputs": [],
   "source": [
    "with open('data/AFINN-111-scores.json', 'r') as fp:\n",
    "     scores_dict = json.load(fp)"
   ]
  },
  {
   "cell_type": "code",
   "execution_count": 239,
   "id": "d1e4e4fe",
   "metadata": {},
   "outputs": [
    {
     "data": {
      "text/html": [
       "<div>\n",
       "<style scoped>\n",
       "    .dataframe tbody tr th:only-of-type {\n",
       "        vertical-align: middle;\n",
       "    }\n",
       "\n",
       "    .dataframe tbody tr th {\n",
       "        vertical-align: top;\n",
       "    }\n",
       "\n",
       "    .dataframe thead th {\n",
       "        text-align: right;\n",
       "    }\n",
       "</style>\n",
       "<table border=\"1\" class=\"dataframe\">\n",
       "  <thead>\n",
       "    <tr style=\"text-align: right;\">\n",
       "      <th></th>\n",
       "      <th>tweet_id</th>\n",
       "      <th>airline_sentiment</th>\n",
       "      <th>text</th>\n",
       "      <th>airline</th>\n",
       "    </tr>\n",
       "  </thead>\n",
       "  <tbody>\n",
       "    <tr>\n",
       "      <th>0</th>\n",
       "      <td>570301031407624196</td>\n",
       "      <td>negative</td>\n",
       "      <td>@VirginAmerica it's really aggressive to blast...</td>\n",
       "      <td>Virgin America</td>\n",
       "    </tr>\n",
       "    <tr>\n",
       "      <th>1</th>\n",
       "      <td>570300817074462722</td>\n",
       "      <td>negative</td>\n",
       "      <td>@VirginAmerica and it's a really big bad thing...</td>\n",
       "      <td>Virgin America</td>\n",
       "    </tr>\n",
       "    <tr>\n",
       "      <th>2</th>\n",
       "      <td>570300767074181121</td>\n",
       "      <td>negative</td>\n",
       "      <td>@VirginAmerica seriously would pay $30 a fligh...</td>\n",
       "      <td>Virgin America</td>\n",
       "    </tr>\n",
       "    <tr>\n",
       "      <th>3</th>\n",
       "      <td>570300248553349120</td>\n",
       "      <td>neutral</td>\n",
       "      <td>@VirginAmerica Really missed a prime opportuni...</td>\n",
       "      <td>Virgin America</td>\n",
       "    </tr>\n",
       "    <tr>\n",
       "      <th>4</th>\n",
       "      <td>570295459631263746</td>\n",
       "      <td>positive</td>\n",
       "      <td>@VirginAmerica it was amazing, and arrived an ...</td>\n",
       "      <td>Virgin America</td>\n",
       "    </tr>\n",
       "  </tbody>\n",
       "</table>\n",
       "</div>"
      ],
      "text/plain": [
       "             tweet_id airline_sentiment  \\\n",
       "0  570301031407624196          negative   \n",
       "1  570300817074462722          negative   \n",
       "2  570300767074181121          negative   \n",
       "3  570300248553349120           neutral   \n",
       "4  570295459631263746          positive   \n",
       "\n",
       "                                                text         airline  \n",
       "0  @VirginAmerica it's really aggressive to blast...  Virgin America  \n",
       "1  @VirginAmerica and it's a really big bad thing...  Virgin America  \n",
       "2  @VirginAmerica seriously would pay $30 a fligh...  Virgin America  \n",
       "3  @VirginAmerica Really missed a prime opportuni...  Virgin America  \n",
       "4  @VirginAmerica it was amazing, and arrived an ...  Virgin America  "
      ]
     },
     "execution_count": 239,
     "metadata": {},
     "output_type": "execute_result"
    }
   ],
   "source": [
    "df.head()"
   ]
  },
  {
   "cell_type": "markdown",
   "id": "6f59b324",
   "metadata": {},
   "source": [
    "# Data preparation"
   ]
  },
  {
   "cell_type": "markdown",
   "id": "954ada17",
   "metadata": {},
   "source": [
    "Convert airline sentiment column to numeric class"
   ]
  },
  {
   "cell_type": "code",
   "execution_count": 240,
   "id": "0ed9ec56",
   "metadata": {},
   "outputs": [],
   "source": [
    "setiment_class_dict = {'negative':-1, 'neutral':0, 'positive':1}"
   ]
  },
  {
   "cell_type": "code",
   "execution_count": 241,
   "id": "d55961ae",
   "metadata": {},
   "outputs": [],
   "source": [
    "df[\"sentiment_class_true\"] = df.airline_sentiment.apply(lambda x: setiment_class_dict.get(x))"
   ]
  },
  {
   "cell_type": "markdown",
   "id": "66cad1ad",
   "metadata": {},
   "source": [
    "# Assign text sentiment score based on scores dict"
   ]
  },
  {
   "cell_type": "code",
   "execution_count": 242,
   "id": "5bb71088",
   "metadata": {},
   "outputs": [],
   "source": [
    "def assign_score(text):\n",
    "    score = 0\n",
    "    for word in text.split():\n",
    "        score+=scores.get(word.lower(),0)\n",
    "    return score\n",
    "        "
   ]
  },
  {
   "cell_type": "code",
   "execution_count": 243,
   "id": "4943a16d",
   "metadata": {},
   "outputs": [],
   "source": [
    "df[\"sentiment_score_hat\"] = df.text.apply(assign_score)"
   ]
  },
  {
   "cell_type": "markdown",
   "id": "4d5c5480",
   "metadata": {},
   "source": [
    "## Split sentiment scores to class"
   ]
  },
  {
   "cell_type": "code",
   "execution_count": 244,
   "id": "67333280",
   "metadata": {},
   "outputs": [],
   "source": [
    "def classify_sentiment(score_col, negative_th, positive_th):\n",
    "    bins = [-100,negative_th, positive_th, 100]\n",
    "    labels = [-1,0,1]\n",
    "    \n",
    "    score_class = pd.cut(score_col,bins = bins, labels = labels).astype(int)\n",
    "    return score_class"
   ]
  },
  {
   "cell_type": "code",
   "execution_count": 245,
   "id": "a7f6c0dc",
   "metadata": {},
   "outputs": [
    {
     "data": {
      "text/plain": [
       "count    9489.000000\n",
       "mean        0.284540\n",
       "std         2.853243\n",
       "min       -13.000000\n",
       "25%        -2.000000\n",
       "50%         0.000000\n",
       "75%         2.000000\n",
       "max        16.000000\n",
       "Name: sentiment_score_hat, dtype: float64"
      ]
     },
     "execution_count": 245,
     "metadata": {},
     "output_type": "execute_result"
    }
   ],
   "source": [
    "df.sentiment_score_hat.describe()"
   ]
  },
  {
   "cell_type": "code",
   "execution_count": 246,
   "id": "642549da",
   "metadata": {},
   "outputs": [],
   "source": [
    "df[\"sentiment_class_hat\"] = classify_sentiment(df.sentiment_score_hat, -1, 1)"
   ]
  },
  {
   "cell_type": "code",
   "execution_count": 247,
   "id": "f34732f6",
   "metadata": {},
   "outputs": [],
   "source": [
    "df[\"correct_classification\"] = df.sentiment_class_hat == df.sentiment_class_true"
   ]
  },
  {
   "cell_type": "markdown",
   "id": "438b2de3",
   "metadata": {},
   "source": [
    "## Evaluate classification performance per class"
   ]
  },
  {
   "cell_type": "code",
   "execution_count": 248,
   "id": "c1e3081d",
   "metadata": {},
   "outputs": [
    {
     "data": {
      "text/plain": [
       "airline_sentiment\n",
       "negative    0.609733\n",
       "neutral     0.261321\n",
       "positive    0.848869\n",
       "Name: correct_classification, dtype: float64"
      ]
     },
     "execution_count": 248,
     "metadata": {},
     "output_type": "execute_result"
    }
   ],
   "source": [
    "df.groupby(\"airline_sentiment\")[\"correct_classification\"].mean()"
   ]
  },
  {
   "cell_type": "markdown",
   "id": "2e949c9e",
   "metadata": {},
   "source": [
    "# Select only negative and positive texts"
   ]
  },
  {
   "cell_type": "code",
   "execution_count": 249,
   "id": "945c3ebf",
   "metadata": {},
   "outputs": [],
   "source": [
    "df_np = df.loc[df.sentiment_class_true!=0].reset_index()"
   ]
  },
  {
   "cell_type": "code",
   "execution_count": 250,
   "id": "7924e50d",
   "metadata": {},
   "outputs": [
    {
     "data": {
      "text/html": [
       "<div>\n",
       "<style scoped>\n",
       "    .dataframe tbody tr th:only-of-type {\n",
       "        vertical-align: middle;\n",
       "    }\n",
       "\n",
       "    .dataframe tbody tr th {\n",
       "        vertical-align: top;\n",
       "    }\n",
       "\n",
       "    .dataframe thead th {\n",
       "        text-align: right;\n",
       "    }\n",
       "</style>\n",
       "<table border=\"1\" class=\"dataframe\">\n",
       "  <thead>\n",
       "    <tr style=\"text-align: right;\">\n",
       "      <th></th>\n",
       "      <th>index</th>\n",
       "      <th>tweet_id</th>\n",
       "      <th>airline_sentiment</th>\n",
       "      <th>text</th>\n",
       "      <th>airline</th>\n",
       "      <th>sentiment_class_true</th>\n",
       "      <th>sentiment_score_hat</th>\n",
       "      <th>sentiment_class_hat</th>\n",
       "      <th>correct_classification</th>\n",
       "    </tr>\n",
       "  </thead>\n",
       "  <tbody>\n",
       "    <tr>\n",
       "      <th>0</th>\n",
       "      <td>0</td>\n",
       "      <td>570301031407624196</td>\n",
       "      <td>negative</td>\n",
       "      <td>@VirginAmerica it's really aggressive to blast...</td>\n",
       "      <td>Virgin America</td>\n",
       "      <td>-1</td>\n",
       "      <td>-5</td>\n",
       "      <td>-1</td>\n",
       "      <td>True</td>\n",
       "    </tr>\n",
       "    <tr>\n",
       "      <th>1</th>\n",
       "      <td>1</td>\n",
       "      <td>570300817074462722</td>\n",
       "      <td>negative</td>\n",
       "      <td>@VirginAmerica and it's a really big bad thing...</td>\n",
       "      <td>Virgin America</td>\n",
       "      <td>-1</td>\n",
       "      <td>-2</td>\n",
       "      <td>-1</td>\n",
       "      <td>True</td>\n",
       "    </tr>\n",
       "    <tr>\n",
       "      <th>2</th>\n",
       "      <td>2</td>\n",
       "      <td>570300767074181121</td>\n",
       "      <td>negative</td>\n",
       "      <td>@VirginAmerica seriously would pay $30 a fligh...</td>\n",
       "      <td>Virgin America</td>\n",
       "      <td>-1</td>\n",
       "      <td>-4</td>\n",
       "      <td>-1</td>\n",
       "      <td>True</td>\n",
       "    </tr>\n",
       "    <tr>\n",
       "      <th>3</th>\n",
       "      <td>4</td>\n",
       "      <td>570295459631263746</td>\n",
       "      <td>positive</td>\n",
       "      <td>@VirginAmerica it was amazing, and arrived an ...</td>\n",
       "      <td>Virgin America</td>\n",
       "      <td>1</td>\n",
       "      <td>3</td>\n",
       "      <td>1</td>\n",
       "      <td>True</td>\n",
       "    </tr>\n",
       "    <tr>\n",
       "      <th>4</th>\n",
       "      <td>6</td>\n",
       "      <td>570289724453216256</td>\n",
       "      <td>positive</td>\n",
       "      <td>@VirginAmerica I &amp;lt;3 pretty graphics. so muc...</td>\n",
       "      <td>Virgin America</td>\n",
       "      <td>1</td>\n",
       "      <td>3</td>\n",
       "      <td>1</td>\n",
       "      <td>True</td>\n",
       "    </tr>\n",
       "    <tr>\n",
       "      <th>...</th>\n",
       "      <td>...</td>\n",
       "      <td>...</td>\n",
       "      <td>...</td>\n",
       "      <td>...</td>\n",
       "      <td>...</td>\n",
       "      <td>...</td>\n",
       "      <td>...</td>\n",
       "      <td>...</td>\n",
       "      <td>...</td>\n",
       "    </tr>\n",
       "    <tr>\n",
       "      <th>8137</th>\n",
       "      <td>9482</td>\n",
       "      <td>569588651925098496</td>\n",
       "      <td>positive</td>\n",
       "      <td>Thank you. “@AmericanAir: @jlhalldc Customer R...</td>\n",
       "      <td>American</td>\n",
       "      <td>1</td>\n",
       "      <td>2</td>\n",
       "      <td>1</td>\n",
       "      <td>True</td>\n",
       "    </tr>\n",
       "    <tr>\n",
       "      <th>8138</th>\n",
       "      <td>9483</td>\n",
       "      <td>569588464896876545</td>\n",
       "      <td>negative</td>\n",
       "      <td>@AmericanAir thx for nothing on getting us out...</td>\n",
       "      <td>American</td>\n",
       "      <td>-1</td>\n",
       "      <td>-1</td>\n",
       "      <td>-1</td>\n",
       "      <td>True</td>\n",
       "    </tr>\n",
       "    <tr>\n",
       "      <th>8139</th>\n",
       "      <td>9485</td>\n",
       "      <td>569587705937600512</td>\n",
       "      <td>negative</td>\n",
       "      <td>@AmericanAir my flight was Cancelled Flightled...</td>\n",
       "      <td>American</td>\n",
       "      <td>-1</td>\n",
       "      <td>-1</td>\n",
       "      <td>-1</td>\n",
       "      <td>True</td>\n",
       "    </tr>\n",
       "    <tr>\n",
       "      <th>8140</th>\n",
       "      <td>9486</td>\n",
       "      <td>569587686496825344</td>\n",
       "      <td>positive</td>\n",
       "      <td>@AmericanAir thank you we got on a different f...</td>\n",
       "      <td>American</td>\n",
       "      <td>1</td>\n",
       "      <td>2</td>\n",
       "      <td>1</td>\n",
       "      <td>True</td>\n",
       "    </tr>\n",
       "    <tr>\n",
       "      <th>8141</th>\n",
       "      <td>9487</td>\n",
       "      <td>569587371693355008</td>\n",
       "      <td>negative</td>\n",
       "      <td>@AmericanAir leaving over 20 minutes Late Flig...</td>\n",
       "      <td>American</td>\n",
       "      <td>-1</td>\n",
       "      <td>-7</td>\n",
       "      <td>-1</td>\n",
       "      <td>True</td>\n",
       "    </tr>\n",
       "  </tbody>\n",
       "</table>\n",
       "<p>8142 rows × 9 columns</p>\n",
       "</div>"
      ],
      "text/plain": [
       "      index            tweet_id airline_sentiment  \\\n",
       "0         0  570301031407624196          negative   \n",
       "1         1  570300817074462722          negative   \n",
       "2         2  570300767074181121          negative   \n",
       "3         4  570295459631263746          positive   \n",
       "4         6  570289724453216256          positive   \n",
       "...     ...                 ...               ...   \n",
       "8137   9482  569588651925098496          positive   \n",
       "8138   9483  569588464896876545          negative   \n",
       "8139   9485  569587705937600512          negative   \n",
       "8140   9486  569587686496825344          positive   \n",
       "8141   9487  569587371693355008          negative   \n",
       "\n",
       "                                                   text         airline  \\\n",
       "0     @VirginAmerica it's really aggressive to blast...  Virgin America   \n",
       "1     @VirginAmerica and it's a really big bad thing...  Virgin America   \n",
       "2     @VirginAmerica seriously would pay $30 a fligh...  Virgin America   \n",
       "3     @VirginAmerica it was amazing, and arrived an ...  Virgin America   \n",
       "4     @VirginAmerica I &lt;3 pretty graphics. so muc...  Virgin America   \n",
       "...                                                 ...             ...   \n",
       "8137  Thank you. “@AmericanAir: @jlhalldc Customer R...        American   \n",
       "8138  @AmericanAir thx for nothing on getting us out...        American   \n",
       "8139  @AmericanAir my flight was Cancelled Flightled...        American   \n",
       "8140  @AmericanAir thank you we got on a different f...        American   \n",
       "8141  @AmericanAir leaving over 20 minutes Late Flig...        American   \n",
       "\n",
       "      sentiment_class_true  sentiment_score_hat  sentiment_class_hat  \\\n",
       "0                       -1                   -5                   -1   \n",
       "1                       -1                   -2                   -1   \n",
       "2                       -1                   -4                   -1   \n",
       "3                        1                    3                    1   \n",
       "4                        1                    3                    1   \n",
       "...                    ...                  ...                  ...   \n",
       "8137                     1                    2                    1   \n",
       "8138                    -1                   -1                   -1   \n",
       "8139                    -1                   -1                   -1   \n",
       "8140                     1                    2                    1   \n",
       "8141                    -1                   -7                   -1   \n",
       "\n",
       "      correct_classification  \n",
       "0                       True  \n",
       "1                       True  \n",
       "2                       True  \n",
       "3                       True  \n",
       "4                       True  \n",
       "...                      ...  \n",
       "8137                    True  \n",
       "8138                    True  \n",
       "8139                    True  \n",
       "8140                    True  \n",
       "8141                    True  \n",
       "\n",
       "[8142 rows x 9 columns]"
      ]
     },
     "execution_count": 250,
     "metadata": {},
     "output_type": "execute_result"
    }
   ],
   "source": [
    "df_np"
   ]
  },
  {
   "cell_type": "markdown",
   "id": "0acb32f3",
   "metadata": {},
   "source": [
    "## Calculate Precision and Recall for classifying negative review"
   ]
  },
  {
   "cell_type": "markdown",
   "id": "20be2abe",
   "metadata": {},
   "source": [
    "Precision = TP / TP + FP\n",
    "\n",
    "Recall = TP / TP + FN"
   ]
  },
  {
   "cell_type": "code",
   "execution_count": 251,
   "id": "49792f05",
   "metadata": {},
   "outputs": [],
   "source": [
    "df_np[\"negative_review\"] = np.where(df_np.sentiment_class_true==-1,1,0)"
   ]
  },
  {
   "cell_type": "code",
   "execution_count": 252,
   "id": "e64ae72a",
   "metadata": {},
   "outputs": [],
   "source": [
    "df_np[\"negative_review_hat\"] =  np.where(df_np.sentiment_class_hat==-1,1,0)"
   ]
  },
  {
   "cell_type": "code",
   "execution_count": 253,
   "id": "61ca05b2",
   "metadata": {},
   "outputs": [
    {
     "data": {
      "text/plain": [
       "0.9708176100628931"
      ]
     },
     "execution_count": 253,
     "metadata": {},
     "output_type": "execute_result"
    }
   ],
   "source": [
    "precision_score(df_np[\"negative_review\"] , df_np[\"negative_review_hat\"] )"
   ]
  },
  {
   "cell_type": "code",
   "execution_count": 254,
   "id": "105f8da1",
   "metadata": {},
   "outputs": [
    {
     "data": {
      "text/plain": [
       "0.6097329751935535"
      ]
     },
     "execution_count": 254,
     "metadata": {},
     "output_type": "execute_result"
    }
   ],
   "source": [
    "recall_score(df_np[\"negative_review\"] , df_np[\"negative_review_hat\"] )"
   ]
  },
  {
   "cell_type": "code",
   "execution_count": null,
   "id": "1f5f7db6",
   "metadata": {},
   "outputs": [],
   "source": []
  },
  {
   "cell_type": "code",
   "execution_count": null,
   "id": "412669aa",
   "metadata": {},
   "outputs": [],
   "source": []
  },
  {
   "cell_type": "code",
   "execution_count": null,
   "id": "55e6988a",
   "metadata": {},
   "outputs": [],
   "source": []
  }
 ],
 "metadata": {
  "kernelspec": {
   "display_name": "Python 3 (ipykernel)",
   "language": "python",
   "name": "python3"
  },
  "language_info": {
   "codemirror_mode": {
    "name": "ipython",
    "version": 3
   },
   "file_extension": ".py",
   "mimetype": "text/x-python",
   "name": "python",
   "nbconvert_exporter": "python",
   "pygments_lexer": "ipython3",
   "version": "3.8.12"
  },
  "toc": {
   "base_numbering": 1,
   "nav_menu": {},
   "number_sections": true,
   "sideBar": true,
   "skip_h1_title": false,
   "title_cell": "Table of Contents",
   "title_sidebar": "Contents",
   "toc_cell": false,
   "toc_position": {},
   "toc_section_display": true,
   "toc_window_display": false
  }
 },
 "nbformat": 4,
 "nbformat_minor": 5
}
