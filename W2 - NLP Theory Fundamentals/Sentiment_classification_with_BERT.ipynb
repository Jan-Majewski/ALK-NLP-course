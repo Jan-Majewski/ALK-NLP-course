{
 "cells": [
  {
   "cell_type": "markdown",
   "id": "d3a08f98",
   "metadata": {},
   "source": [
    "# Imports"
   ]
  },
  {
   "cell_type": "code",
   "execution_count": 1,
   "id": "a479e0b2",
   "metadata": {},
   "outputs": [],
   "source": [
    "import nltk                             \n",
    "from nltk.corpus import twitter_samples\n",
    "import pandas as pd"
   ]
  },
  {
   "cell_type": "code",
   "execution_count": 2,
   "id": "d1ee48bd",
   "metadata": {},
   "outputs": [],
   "source": [
    "import tensorflow as tf\n",
    "from tensorflow import keras"
   ]
  },
  {
   "cell_type": "code",
   "execution_count": 3,
   "id": "8eb92bd3",
   "metadata": {},
   "outputs": [],
   "source": [
    "from transformers import InputExample, InputFeatures\n",
    "from transformers import BertTokenizer, TFBertForSequenceClassification\n"
   ]
  },
  {
   "cell_type": "code",
   "execution_count": 4,
   "id": "8219d8fc",
   "metadata": {},
   "outputs": [],
   "source": [
    "from sklearn.model_selection import train_test_split"
   ]
  },
  {
   "cell_type": "code",
   "execution_count": 6,
   "id": "7ee778e4",
   "metadata": {},
   "outputs": [],
   "source": [
    "data = pd.read_feather(\"../data/movie_reviews_4k.feather\")"
   ]
  },
  {
   "cell_type": "code",
   "execution_count": 7,
   "id": "6cf96514",
   "metadata": {},
   "outputs": [
    {
     "data": {
      "text/plain": [
       "(4000, 2)"
      ]
     },
     "execution_count": 7,
     "metadata": {},
     "output_type": "execute_result"
    }
   ],
   "source": [
    "data.shape"
   ]
  },
  {
   "cell_type": "markdown",
   "id": "7e227c5a",
   "metadata": {},
   "source": [
    "## Train test split"
   ]
  },
  {
   "cell_type": "code",
   "execution_count": 8,
   "id": "4642a690",
   "metadata": {},
   "outputs": [],
   "source": [
    "data_train, data_test = train_test_split(data, test_size=0.2, random_state=0)"
   ]
  },
  {
   "cell_type": "code",
   "execution_count": 9,
   "id": "2d8e68a6",
   "metadata": {},
   "outputs": [],
   "source": [
    "data_train.reset_index(inplace=True, drop=True)\n",
    "data_test.reset_index(inplace=True, drop=True)"
   ]
  },
  {
   "cell_type": "markdown",
   "id": "5980fbb1",
   "metadata": {},
   "source": [
    "## Load BERT model and Tokenizer"
   ]
  },
  {
   "cell_type": "code",
   "execution_count": 10,
   "id": "0ac055e2",
   "metadata": {},
   "outputs": [
    {
     "name": "stderr",
     "output_type": "stream",
     "text": [
      "All model checkpoint layers were used when initializing TFBertForSequenceClassification.\n",
      "\n",
      "Some layers of TFBertForSequenceClassification were not initialized from the model checkpoint at bert-base-uncased and are newly initialized: ['classifier']\n",
      "You should probably TRAIN this model on a down-stream task to be able to use it for predictions and inference.\n"
     ]
    }
   ],
   "source": [
    "\n",
    "model = TFBertForSequenceClassification.from_pretrained(\"bert-base-uncased\")\n",
    "tokenizer = BertTokenizer.from_pretrained(\"bert-base-uncased\")"
   ]
  },
  {
   "cell_type": "markdown",
   "id": "ae5746eb",
   "metadata": {},
   "source": [
    "# Prepare inputs"
   ]
  },
  {
   "cell_type": "code",
   "execution_count": 11,
   "id": "0f7e5ee5",
   "metadata": {},
   "outputs": [],
   "source": [
    "def convert_data_to_examples(data, data_col, label_col): \n",
    "    examples= data.apply(lambda x: InputExample(\n",
    "        guid=None, \n",
    "        text_a = x[data_col], \n",
    "        text_b = None,\n",
    "        label = x[label_col]), axis = 1)      \n",
    "    \n",
    "    return examples"
   ]
  },
  {
   "cell_type": "code",
   "execution_count": 12,
   "id": "a3728c26",
   "metadata": {},
   "outputs": [],
   "source": [
    "examples_train = convert_data_to_examples(data_train, \"text\", \"label\")\n",
    "examples_test = convert_data_to_examples(data_test, \"text\", \"label\")"
   ]
  },
  {
   "cell_type": "code",
   "execution_count": 13,
   "id": "1de0b24b",
   "metadata": {},
   "outputs": [],
   "source": [
    "  \n",
    "def convert_examples_to_tf_dataset(examples, tokenizer, max_length=128):\n",
    "    features = [] # -> will hold InputFeatures to be converted later\n",
    "\n",
    "    for e in examples:\n",
    "        # Documentation is really strong for this method, so please take a look at it\n",
    "        input_dict = tokenizer.encode_plus(\n",
    "            e.text_a,\n",
    "            add_special_tokens=True,\n",
    "            max_length=max_length, # truncates if len(s) > max_length\n",
    "            return_token_type_ids=True,\n",
    "            return_attention_mask=True,\n",
    "            pad_to_max_length=True, # pads to the right by default # CHECK THIS for pad_to_max_length\n",
    "            truncation=True\n",
    "        )\n",
    "\n",
    "        input_ids, token_type_ids, attention_mask = (input_dict[\"input_ids\"],\n",
    "            input_dict[\"token_type_ids\"], input_dict['attention_mask'])\n",
    "\n",
    "        features.append(\n",
    "            InputFeatures(\n",
    "                input_ids=input_ids, attention_mask=attention_mask, token_type_ids=token_type_ids, label=e.label\n",
    "            )\n",
    "        )\n",
    "\n",
    "    def gen():\n",
    "        for f in features:\n",
    "            yield (\n",
    "                {\n",
    "                    \"input_ids\": f.input_ids,\n",
    "                    \"attention_mask\": f.attention_mask,\n",
    "                    \"token_type_ids\": f.token_type_ids,\n",
    "                },\n",
    "                f.label,\n",
    "            )\n",
    "\n",
    "    return tf.data.Dataset.from_generator(\n",
    "        gen,\n",
    "        ({\"input_ids\": tf.int32, \"attention_mask\": tf.int32, \"token_type_ids\": tf.int32}, tf.int64),\n",
    "        (\n",
    "            {\n",
    "                \"input_ids\": tf.TensorShape([None]),\n",
    "                \"attention_mask\": tf.TensorShape([None]),\n",
    "                \"token_type_ids\": tf.TensorShape([None]),\n",
    "            },\n",
    "            tf.TensorShape([]),\n",
    "        ),\n",
    "    )\n",
    "\n"
   ]
  },
  {
   "cell_type": "code",
   "execution_count": 14,
   "id": "473a3bf4",
   "metadata": {},
   "outputs": [
    {
     "data": {
      "text/plain": [
       "3200"
      ]
     },
     "execution_count": 14,
     "metadata": {},
     "output_type": "execute_result"
    }
   ],
   "source": [
    "len(examples_train)"
   ]
  },
  {
   "cell_type": "code",
   "execution_count": 15,
   "id": "0b313e44",
   "metadata": {},
   "outputs": [
    {
     "name": "stderr",
     "output_type": "stream",
     "text": [
      "C:\\ProgramData\\Anaconda3\\lib\\site-packages\\transformers\\tokenization_utils_base.py:2126: FutureWarning: The `pad_to_max_length` argument is deprecated and will be removed in a future version, use `padding=True` or `padding='longest'` to pad to the longest sequence in the batch, or use `padding='max_length'` to pad to a max length. In this case, you can give a specific length with `max_length` (e.g. `max_length=45`) or leave max_length to None to pad to the maximal input size of the model (e.g. 512 for Bert).\n",
      "  warnings.warn(\n"
     ]
    }
   ],
   "source": [
    "dataset_train = convert_examples_to_tf_dataset(examples_train, tokenizer, max_length=128)\n",
    "dataset_test = convert_examples_to_tf_dataset(examples_test, tokenizer, max_length=128)"
   ]
  },
  {
   "cell_type": "code",
   "execution_count": 16,
   "id": "6c3f622f",
   "metadata": {},
   "outputs": [],
   "source": [
    "dataset_train = dataset_train.shuffle(100).batch(32)"
   ]
  },
  {
   "cell_type": "code",
   "execution_count": 17,
   "id": "88a7e0a8",
   "metadata": {},
   "outputs": [],
   "source": [
    "dataset_test = dataset_test.shuffle(100).batch(32)"
   ]
  },
  {
   "cell_type": "code",
   "execution_count": 18,
   "id": "0025024d",
   "metadata": {},
   "outputs": [
    {
     "name": "stdout",
     "output_type": "stream",
     "text": [
      "Epoch 1/5\n",
      "WARNING:tensorflow:The parameters `output_attentions`, `output_hidden_states` and `use_cache` cannot be updated when calling a model.They have to be set to True/False in the config object (i.e.: `config=XConfig.from_pretrained('name', output_attentions=True)`).\n",
      "WARNING:tensorflow:AutoGraph could not transform <bound method Socket.send of <zmq.Socket(zmq.PUSH) at 0x21e5ea79640>> and will run it as-is.\n",
      "Please report this to the TensorFlow team. When filing the bug, set the verbosity to 10 (on Linux, `export AUTOGRAPH_VERBOSITY=10`) and attach the full output.\n",
      "Cause: module, class, method, function, traceback, frame, or code object was expected, got cython_function_or_method\n",
      "To silence this warning, decorate the function with @tf.autograph.experimental.do_not_convert\n",
      "WARNING: AutoGraph could not transform <bound method Socket.send of <zmq.Socket(zmq.PUSH) at 0x21e5ea79640>> and will run it as-is.\n",
      "Please report this to the TensorFlow team. When filing the bug, set the verbosity to 10 (on Linux, `export AUTOGRAPH_VERBOSITY=10`) and attach the full output.\n",
      "Cause: module, class, method, function, traceback, frame, or code object was expected, got cython_function_or_method\n",
      "To silence this warning, decorate the function with @tf.autograph.experimental.do_not_convert\n",
      "WARNING:tensorflow:The parameter `return_dict` cannot be set in graph mode and will always be set to `True`.\n",
      "WARNING:tensorflow:The parameters `output_attentions`, `output_hidden_states` and `use_cache` cannot be updated when calling a model.They have to be set to True/False in the config object (i.e.: `config=XConfig.from_pretrained('name', output_attentions=True)`).\n",
      "WARNING:tensorflow:The parameter `return_dict` cannot be set in graph mode and will always be set to `True`.\n",
      "    100/Unknown - 722s 7s/step - loss: 0.4642 - accuracy: 0.7922WARNING:tensorflow:The parameters `output_attentions`, `output_hidden_states` and `use_cache` cannot be updated when calling a model.They have to be set to True/False in the config object (i.e.: `config=XConfig.from_pretrained('name', output_attentions=True)`).\n",
      "WARNING:tensorflow:The parameter `return_dict` cannot be set in graph mode and will always be set to `True`.\n",
      "100/100 [==============================] - 778s 8s/step - loss: 0.4642 - accuracy: 0.7922 - val_loss: 0.3404 - val_accuracy: 0.8500\n",
      "Epoch 2/5\n",
      "100/100 [==============================] - 774s 8s/step - loss: 0.2591 - accuracy: 0.9013 - val_loss: 0.3556 - val_accuracy: 0.8712\n",
      "Epoch 3/5\n",
      "100/100 [==============================] - 785s 8s/step - loss: 0.1340 - accuracy: 0.9591 - val_loss: 0.4106 - val_accuracy: 0.8650\n",
      "Epoch 4/5\n",
      "100/100 [==============================] - 765s 8s/step - loss: 0.0928 - accuracy: 0.9706 - val_loss: 0.4553 - val_accuracy: 0.8562\n",
      "Epoch 5/5\n",
      "100/100 [==============================] - 832s 8s/step - loss: 0.0676 - accuracy: 0.9822 - val_loss: 0.6499 - val_accuracy: 0.8475\n",
      "CPU times: total: 13h 18min 2s\n",
      "Wall time: 1h 5min 34s\n"
     ]
    }
   ],
   "source": [
    "%%time\n",
    "\n",
    "model.compile(optimizer=tf.keras.optimizers.Adam(learning_rate=3e-5, epsilon=1e-08, clipnorm=1.0), \n",
    "              loss=tf.keras.losses.SparseCategoricalCrossentropy(from_logits=True), \n",
    "              metrics=[tf.keras.metrics.SparseCategoricalAccuracy('accuracy')])\n",
    "history = model.fit(dataset_train, epochs=5, verbose=1,  validation_data=dataset_test)"
   ]
  },
  {
   "cell_type": "code",
   "execution_count": 19,
   "id": "778540ab",
   "metadata": {},
   "outputs": [
    {
     "data": {
      "text/plain": [
       "{'loss': [0.4641569256782532,\n",
       "  0.2591298818588257,\n",
       "  0.1340349316596985,\n",
       "  0.09284628927707672,\n",
       "  0.06756050884723663],\n",
       " 'accuracy': [0.792187511920929,\n",
       "  0.9012500047683716,\n",
       "  0.9590625166893005,\n",
       "  0.9706249833106995,\n",
       "  0.9821875095367432],\n",
       " 'val_loss': [0.34040001034736633,\n",
       "  0.35560932755470276,\n",
       "  0.41056814789772034,\n",
       "  0.4552919268608093,\n",
       "  0.6499009132385254],\n",
       " 'val_accuracy': [0.8500000238418579,\n",
       "  0.8712499737739563,\n",
       "  0.8650000095367432,\n",
       "  0.856249988079071,\n",
       "  0.8475000262260437]}"
      ]
     },
     "execution_count": 19,
     "metadata": {},
     "output_type": "execute_result"
    }
   ],
   "source": [
    "history.history"
   ]
  },
  {
   "cell_type": "code",
   "execution_count": 26,
   "id": "4c4ca6ac",
   "metadata": {},
   "outputs": [
    {
     "data": {
      "text/plain": [
       "\"I wanted to vote zero or lower. I loved the commentary. It IS the worst movie ever made and 'unendurable' is the perfect word for it, unless there is something worse that Roget never thought of. I am also at a loss to think of anything negative enough to accurately describe Bo Derek. The best that could be said of her is, she's consistent.\""
      ]
     },
     "execution_count": 26,
     "metadata": {},
     "output_type": "execute_result"
    }
   ],
   "source": [
    "data.text[0]"
   ]
  },
  {
   "cell_type": "code",
   "execution_count": 27,
   "id": "4adb2115",
   "metadata": {},
   "outputs": [],
   "source": [
    "pred_sentences  =[ \"I absolutely hate this movie, total dissaster\", \n",
    "                  \"Most beaytiful movie ever, I watched it 10 times, very good\"]"
   ]
  },
  {
   "cell_type": "code",
   "execution_count": 28,
   "id": "c09c40b9",
   "metadata": {},
   "outputs": [],
   "source": [
    "def classify_sentences(sentences):\n",
    "    sententes_tokenized = tokenizer(pred_sentences, max_length=128, padding=True, truncation=True, return_tensors='tf')\n",
    "    model_outputs = model(sententes_tokenized)\n",
    "    sentiment_proba =  tf.nn.softmax(model_outputs[0], axis=-1)\n",
    "    sentiment_class = tf.argmax(sentiment_proba, axis=1)\n",
    "    sentiment_labels = [ 'Negative', 'Positive']\n",
    "    sentiments = [sentiment_labels[i] for i in sentiment_class ]\n",
    "    \n",
    "    return sentiment_proba, sentiments"
   ]
  },
  {
   "cell_type": "code",
   "execution_count": 31,
   "id": "3bdefbdc",
   "metadata": {},
   "outputs": [
    {
     "data": {
      "text/plain": [
       "(<tf.Tensor: shape=(2, 2), dtype=float32, numpy=\n",
       " array([[0.9948179 , 0.00518212],\n",
       "        [0.00184642, 0.9981535 ]], dtype=float32)>,\n",
       " ['Negative', 'Positive'])"
      ]
     },
     "execution_count": 31,
     "metadata": {},
     "output_type": "execute_result"
    }
   ],
   "source": [
    "classify_sentences(pred_sentences )"
   ]
  },
  {
   "cell_type": "code",
   "execution_count": 32,
   "id": "dcd17bd7",
   "metadata": {},
   "outputs": [
    {
     "data": {
      "text/plain": [
       "0.48625"
      ]
     },
     "execution_count": 32,
     "metadata": {},
     "output_type": "execute_result"
    }
   ],
   "source": [
    "data_train.label.mean()"
   ]
  },
  {
   "cell_type": "code",
   "execution_count": null,
   "id": "22f8dfdf",
   "metadata": {},
   "outputs": [],
   "source": []
  },
  {
   "cell_type": "code",
   "execution_count": null,
   "id": "461b54ef",
   "metadata": {},
   "outputs": [],
   "source": []
  },
  {
   "cell_type": "code",
   "execution_count": null,
   "id": "99599100",
   "metadata": {},
   "outputs": [],
   "source": []
  },
  {
   "cell_type": "code",
   "execution_count": null,
   "id": "ad6d5f6c",
   "metadata": {},
   "outputs": [],
   "source": []
  }
 ],
 "metadata": {
  "kernelspec": {
   "display_name": "Python 3 (ipykernel)",
   "language": "python",
   "name": "python3"
  },
  "language_info": {
   "codemirror_mode": {
    "name": "ipython",
    "version": 3
   },
   "file_extension": ".py",
   "mimetype": "text/x-python",
   "name": "python",
   "nbconvert_exporter": "python",
   "pygments_lexer": "ipython3",
   "version": "3.8.12"
  },
  "toc": {
   "base_numbering": 1,
   "nav_menu": {},
   "number_sections": true,
   "sideBar": true,
   "skip_h1_title": false,
   "title_cell": "Table of Contents",
   "title_sidebar": "Contents",
   "toc_cell": false,
   "toc_position": {},
   "toc_section_display": true,
   "toc_window_display": false
  }
 },
 "nbformat": 4,
 "nbformat_minor": 5
}
