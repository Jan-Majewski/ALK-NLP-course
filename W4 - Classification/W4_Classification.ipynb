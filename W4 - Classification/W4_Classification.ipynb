{
 "cells": [
  {
   "cell_type": "code",
   "execution_count": 1,
   "id": "722b2569",
   "metadata": {},
   "outputs": [],
   "source": [
    "import pandas as pd\n",
    "import numpy as np\n",
    "import os\n",
    "import math\n",
    "import random\n",
    "import matplotlib.pyplot as plt"
   ]
  },
  {
   "cell_type": "code",
   "execution_count": 2,
   "id": "177c56fa",
   "metadata": {},
   "outputs": [],
   "source": [
    "import plotly.graph_objects as go\n",
    "from plotly.offline import iplot"
   ]
  },
  {
   "cell_type": "code",
   "execution_count": 3,
   "id": "81c42406",
   "metadata": {},
   "outputs": [],
   "source": [
    "from sklearn.metrics import precision_score, recall_score, roc_curve"
   ]
  },
  {
   "cell_type": "markdown",
   "id": "cd894012",
   "metadata": {},
   "source": [
    "## Imports"
   ]
  },
  {
   "cell_type": "code",
   "execution_count": 4,
   "id": "470f80f2",
   "metadata": {},
   "outputs": [],
   "source": [
    "os.environ['KMP_DUPLICATE_LIB_OK']='True'"
   ]
  },
  {
   "cell_type": "code",
   "execution_count": 5,
   "id": "c56c31db",
   "metadata": {},
   "outputs": [],
   "source": [
    "import spacy\n",
    "from spacy.tokens import Doc\n",
    "from spacy.util import minibatch"
   ]
  },
  {
   "cell_type": "code",
   "execution_count": 6,
   "id": "3fe96170",
   "metadata": {},
   "outputs": [],
   "source": [
    "from spacy.training import Example"
   ]
  },
  {
   "cell_type": "code",
   "execution_count": 7,
   "id": "1c4985da",
   "metadata": {},
   "outputs": [],
   "source": [
    "def split_examples_to_batches(examples, batch_size):\n",
    "    batches=[]\n",
    "    for i in range(0, math.ceil(len(examples)/batch_size)):\n",
    "        start=i*batch_size\n",
    "        end = start+batch_size\n",
    "        batches.append(examples[start:end])\n",
    "    return batches"
   ]
  },
  {
   "cell_type": "markdown",
   "id": "e0e752cf",
   "metadata": {},
   "source": [
    "## Prepare data"
   ]
  },
  {
   "cell_type": "code",
   "execution_count": 72,
   "id": "c20916cd",
   "metadata": {},
   "outputs": [],
   "source": [
    "# Read SPAM_classifier.csv with correct header handling\n",
    "data = pd.read_csv(\"../data/SPAM_classifier.csv\", header = 0,names = [\"category\", \"text\"])"
   ]
  },
  {
   "cell_type": "code",
   "execution_count": 73,
   "id": "d793a97f",
   "metadata": {},
   "outputs": [],
   "source": [
    "data.drop_duplicates(inplace=True)\n",
    "data[\"text_len\"] = data.text.apply(lambda x: len(str(x)))\n",
    "data = data.query(\"text_len<2000\")\n",
    "data = data.sample(5000)\n",
    "data.reset_index(inplace=True, drop=True)\n",
    "data.rename(columns = {\"Category\":\"category\", \"Message\":\"text\"}, inplace=True)"
   ]
  },
  {
   "cell_type": "code",
   "execution_count": 74,
   "id": "a62c8a7c",
   "metadata": {},
   "outputs": [
    {
     "data": {
      "text/html": [
       "<div>\n",
       "<style scoped>\n",
       "    .dataframe tbody tr th:only-of-type {\n",
       "        vertical-align: middle;\n",
       "    }\n",
       "\n",
       "    .dataframe tbody tr th {\n",
       "        vertical-align: top;\n",
       "    }\n",
       "\n",
       "    .dataframe thead th {\n",
       "        text-align: right;\n",
       "    }\n",
       "</style>\n",
       "<table border=\"1\" class=\"dataframe\">\n",
       "  <thead>\n",
       "    <tr style=\"text-align: right;\">\n",
       "      <th></th>\n",
       "      <th>category</th>\n",
       "      <th>text</th>\n",
       "      <th>text_len</th>\n",
       "    </tr>\n",
       "  </thead>\n",
       "  <tbody>\n",
       "    <tr>\n",
       "      <th>0</th>\n",
       "      <td>ham</td>\n",
       "      <td>Ok lor wat time ü finish?</td>\n",
       "      <td>25</td>\n",
       "    </tr>\n",
       "    <tr>\n",
       "      <th>1</th>\n",
       "      <td>ham</td>\n",
       "      <td>cool. We will have fun practicing making babies!</td>\n",
       "      <td>48</td>\n",
       "    </tr>\n",
       "    <tr>\n",
       "      <th>2</th>\n",
       "      <td>spam</td>\n",
       "      <td>Text82228&gt;&gt; Get more ringtones, logos and game...</td>\n",
       "      <td>101</td>\n",
       "    </tr>\n",
       "    <tr>\n",
       "      <th>3</th>\n",
       "      <td>ham</td>\n",
       "      <td>Cramps stopped. Going back to sleep</td>\n",
       "      <td>35</td>\n",
       "    </tr>\n",
       "    <tr>\n",
       "      <th>4</th>\n",
       "      <td>ham</td>\n",
       "      <td>Wewa is 130. Iriver 255. All 128 mb.</td>\n",
       "      <td>36</td>\n",
       "    </tr>\n",
       "    <tr>\n",
       "      <th>...</th>\n",
       "      <td>...</td>\n",
       "      <td>...</td>\n",
       "      <td>...</td>\n",
       "    </tr>\n",
       "    <tr>\n",
       "      <th>4995</th>\n",
       "      <td>ham</td>\n",
       "      <td>Wake me up at  &amp;lt;#&amp;gt;  am morning:)</td>\n",
       "      <td>38</td>\n",
       "    </tr>\n",
       "    <tr>\n",
       "      <th>4996</th>\n",
       "      <td>ham</td>\n",
       "      <td>Is ur changes 2 da report big? Cos i've alread...</td>\n",
       "      <td>82</td>\n",
       "    </tr>\n",
       "    <tr>\n",
       "      <th>4997</th>\n",
       "      <td>spam</td>\n",
       "      <td>Double your mins &amp; txts on Orange or 1/2 price...</td>\n",
       "      <td>160</td>\n",
       "    </tr>\n",
       "    <tr>\n",
       "      <th>4998</th>\n",
       "      <td>ham</td>\n",
       "      <td>Dai  &amp;lt;#&amp;gt;  naal eruku.</td>\n",
       "      <td>27</td>\n",
       "    </tr>\n",
       "    <tr>\n",
       "      <th>4999</th>\n",
       "      <td>ham</td>\n",
       "      <td>Thats cool! Sometimes slow and gentle. Sonetim...</td>\n",
       "      <td>66</td>\n",
       "    </tr>\n",
       "  </tbody>\n",
       "</table>\n",
       "<p>5000 rows × 3 columns</p>\n",
       "</div>"
      ],
      "text/plain": [
       "     category                                               text  text_len\n",
       "0         ham                          Ok lor wat time ü finish?        25\n",
       "1         ham   cool. We will have fun practicing making babies!        48\n",
       "2        spam  Text82228>> Get more ringtones, logos and game...       101\n",
       "3         ham                Cramps stopped. Going back to sleep        35\n",
       "4         ham               Wewa is 130. Iriver 255. All 128 mb.        36\n",
       "...       ...                                                ...       ...\n",
       "4995      ham             Wake me up at  &lt;#&gt;  am morning:)        38\n",
       "4996      ham  Is ur changes 2 da report big? Cos i've alread...        82\n",
       "4997     spam  Double your mins & txts on Orange or 1/2 price...       160\n",
       "4998      ham                        Dai  &lt;#&gt;  naal eruku.        27\n",
       "4999      ham  Thats cool! Sometimes slow and gentle. Sonetim...        66\n",
       "\n",
       "[5000 rows x 3 columns]"
      ]
     },
     "execution_count": 74,
     "metadata": {},
     "output_type": "execute_result"
    }
   ],
   "source": [
    "data"
   ]
  },
  {
   "cell_type": "code",
   "execution_count": 75,
   "id": "a7a6cd6a",
   "metadata": {},
   "outputs": [],
   "source": [
    "# create empty model and add labels\n",
    "nlp = spacy.blank(\"en\")\n",
    "textcat = nlp.add_pipe(\"textcat\")\n",
    "\n",
    "for cat in [\"ham\", \"spam\"]:\n",
    "    textcat.add_label(cat)"
   ]
  },
  {
   "cell_type": "code",
   "execution_count": 76,
   "id": "b2cb9032",
   "metadata": {},
   "outputs": [
    {
     "data": {
      "text/plain": [
       "('ham', 'spam')"
      ]
     },
     "execution_count": 76,
     "metadata": {},
     "output_type": "execute_result"
    }
   ],
   "source": [
    "nlp.get_pipe(\"textcat\").labels"
   ]
  },
  {
   "cell_type": "code",
   "execution_count": 77,
   "id": "e6eafbd1",
   "metadata": {},
   "outputs": [
    {
     "data": {
      "text/plain": [
       "('ham', 'spam')"
      ]
     },
     "execution_count": 77,
     "metadata": {},
     "output_type": "execute_result"
    }
   ],
   "source": [
    "nlp.get_pipe(\"textcat\").labels"
   ]
  },
  {
   "cell_type": "code",
   "execution_count": 78,
   "id": "9c841a77",
   "metadata": {},
   "outputs": [],
   "source": [
    "from sklearn.model_selection import train_test_split\n",
    "texts_train, texts_test, labels_train, labels_test = train_test_split(data['text'], data['category'], test_size=0.2, random_state = 7)"
   ]
  },
  {
   "cell_type": "code",
   "execution_count": 79,
   "id": "40e27221",
   "metadata": {},
   "outputs": [],
   "source": [
    "texts_train.reset_index(inplace=True, drop=True)\n",
    "labels_train.reset_index(inplace=True, drop=True)\n",
    "\n",
    "texts_test.reset_index(inplace=True, drop=True)\n",
    "labels_test.reset_index(inplace=True, drop=True)"
   ]
  },
  {
   "cell_type": "markdown",
   "id": "73e34106",
   "metadata": {},
   "source": [
    "## Transform data to texcat exammples"
   ]
  },
  {
   "cell_type": "markdown",
   "id": "f0139d46",
   "metadata": {},
   "source": [
    "Create a function to iterate through texts and labels and convert them to spacy format"
   ]
  },
  {
   "cell_type": "markdown",
   "id": "e3e097e9",
   "metadata": {},
   "source": [
    "Spacy textcat format:\n",
    "- example = Example.from_dict(nlp.make_doc(text), cat_label )\n",
    "- cat_label format: {'cats': {'ham': True, 'spam': False}}"
   ]
  },
  {
   "cell_type": "code",
   "execution_count": 80,
   "id": "7b8e1601",
   "metadata": {},
   "outputs": [],
   "source": [
    "def prepare_textcat_examples(texts, labels):\n",
    "    examples = []\n",
    "    texts.reset_index(inplace=True, drop=True)\n",
    "    labels.reset_index(inplace=True, drop=True)\n",
    "    categories = list(labels.unique())\n",
    "    for i in range(0, len(texts)):\n",
    "        text = texts[i]\n",
    "        label = labels[i]\n",
    "        cat_label = {'cats': {category:label==category for category in categories}}\n",
    "        example = Example.from_dict(nlp.make_doc(text), cat_label )\n",
    "        examples.append(example)\n",
    "    \n",
    "    return examples"
   ]
  },
  {
   "cell_type": "code",
   "execution_count": 81,
   "id": "e914891b",
   "metadata": {},
   "outputs": [],
   "source": [
    "examples_train = prepare_textcat_examples(texts_train, labels_train)\n",
    "examples_test = prepare_textcat_examples(texts_test, labels_test)"
   ]
  },
  {
   "cell_type": "markdown",
   "id": "7527bb88",
   "metadata": {},
   "source": [
    "## Train models"
   ]
  },
  {
   "cell_type": "code",
   "execution_count": 82,
   "id": "27566250",
   "metadata": {},
   "outputs": [],
   "source": [
    "def train_model(model, examples_train, examples_test, optimizer, batch_size, epochs=10):\n",
    "    losses = {}\n",
    "    random.seed(1)\n",
    "\n",
    "    for epoch in range(epochs):\n",
    "        random.shuffle(examples_train)\n",
    "\n",
    "        batches = split_examples_to_batches(examples_train,batch_size)\n",
    "        \n",
    "        for batch in batches:\n",
    "            \n",
    "            model.update(batch, sgd=optimizer, losses=losses)\n",
    "        score = model.evaluate(examples_test)\n",
    "        print(f\"Epoch {epoch}, score: {score['cats_score']}\")\n",
    "\n",
    "\n",
    "    return score "
   ]
  },
  {
   "cell_type": "code",
   "execution_count": 83,
   "id": "84827130",
   "metadata": {},
   "outputs": [],
   "source": [
    "def predict_label(text, nlp):\n",
    "    doc = nlp(text)\n",
    "    df_proba = pd.DataFrame.from_dict(doc.cats, orient = \"index\", columns = [\"proba\"])\\\n",
    "    .sort_values(by=\"proba\", ascending=False)\n",
    "    \n",
    "    label = df_proba.index[:3]\n",
    "    proba = df_proba.proba[:3]\n",
    "    \n",
    "    return  round(proba,2)"
   ]
  },
  {
   "cell_type": "code",
   "execution_count": 84,
   "id": "84a9ee51",
   "metadata": {},
   "outputs": [
    {
     "name": "stdout",
     "output_type": "stream",
     "text": [
      "Epoch 0, score: 0.9469129903912512\n",
      "Epoch 1, score: 0.9550253324703413\n",
      "Epoch 2, score: 0.9471103353960303\n",
      "Epoch 3, score: 0.956382438776805\n",
      "Epoch 4, score: 0.9450807617908553\n",
      "Epoch 5, score: 0.9547777325555104\n",
      "Epoch 6, score: 0.9490196078431372\n",
      "Epoch 7, score: 0.954526672083924\n",
      "Epoch 8, score: 0.954526672083924\n",
      "Epoch 9, score: 0.954526672083924\n"
     ]
    }
   ],
   "source": [
    "optimizer = nlp.begin_training()\n",
    "batch_size = 20\n",
    "epochs = 10\n",
    "\n",
    "# Training the model\n",
    "score  = train_model(nlp, examples_train, examples_test, optimizer, batch_size, epochs)"
   ]
  },
  {
   "cell_type": "markdown",
   "id": "a9f74646",
   "metadata": {},
   "source": [
    "## Evaluate test set performance"
   ]
  },
  {
   "cell_type": "markdown",
   "id": "c01e7a4d",
   "metadata": {},
   "source": [
    "### Confusion matrix"
   ]
  },
  {
   "cell_type": "markdown",
   "id": "d2bddecf",
   "metadata": {},
   "source": [
    "Get predictions and convert them to spam probability, y_hat and y_true"
   ]
  },
  {
   "cell_type": "code",
   "execution_count": 85,
   "id": "7d5f0658",
   "metadata": {},
   "outputs": [],
   "source": [
    "def get_predictions(texts, textcat):\n",
    "    docs = [nlp(text) for text in texts]\n",
    "    predictions = textcat.predict(docs)\n",
    "    \n",
    "    df_pred = pd.DataFrame(predictions.argmax(axis=1), columns = [\"category_idx\"])\n",
    "    df_pred[\"spam_proba\"] = predictions[:,1]\n",
    "    df_pred[\"label_hat\"] = df_pred.category_idx.apply(lambda x:textcat.labels[x])\n",
    "    df_pred[\"label_true\"] = labels_test\n",
    "    \n",
    "    return df_pred"
   ]
  },
  {
   "cell_type": "code",
   "execution_count": 86,
   "id": "e2d151a8",
   "metadata": {},
   "outputs": [],
   "source": [
    "df_pred = get_predictions(texts_test, textcat)"
   ]
  },
  {
   "cell_type": "code",
   "execution_count": 87,
   "id": "829ba3a5",
   "metadata": {},
   "outputs": [],
   "source": [
    "from sklearn.metrics import confusion_matrix"
   ]
  },
  {
   "cell_type": "markdown",
   "id": "7e6ed120",
   "metadata": {},
   "source": [
    "Get confusion matrix leveraging sklearn function"
   ]
  },
  {
   "cell_type": "code",
   "execution_count": 88,
   "id": "cf74548a",
   "metadata": {},
   "outputs": [],
   "source": [
    "cf_matrix = confusion_matrix(df_pred[\"label_true\"], df_pred[\"label_hat\"])"
   ]
  },
  {
   "cell_type": "code",
   "execution_count": 89,
   "id": "e74991f4",
   "metadata": {},
   "outputs": [
    {
     "data": {
      "text/plain": [
       "<AxesSubplot: >"
      ]
     },
     "execution_count": 89,
     "metadata": {},
     "output_type": "execute_result"
    },
    {
     "data": {
      "image/png": "[encoded data removed]",
      "text/plain": [
       "<Figure size 640x480 with 2 Axes>"
      ]
     },
     "metadata": {},
     "output_type": "display_data"
    }
   ],
   "source": [
    "categories = textcat.labels\n",
    "import seaborn as sns\n",
    "sns.heatmap(cf_matrix, annot=True,  xticklabels=categories,\n",
    "                yticklabels=categories)"
   ]
  },
  {
   "cell_type": "markdown",
   "id": "c9ead7d4",
   "metadata": {},
   "source": [
    "### Recall and Precision"
   ]
  },
  {
   "cell_type": "code",
   "execution_count": 90,
   "id": "dbb11b50",
   "metadata": {},
   "outputs": [],
   "source": [
    "threshold = 0.5"
   ]
  },
  {
   "cell_type": "markdown",
   "id": "2b438b2b",
   "metadata": {},
   "source": [
    "Add spam hat label based on decision threshold"
   ]
  },
  {
   "cell_type": "code",
   "execution_count": 91,
   "id": "b888d956",
   "metadata": {},
   "outputs": [],
   "source": [
    "df_pred[\"is_spam_hat\"] = np.where(df_pred.spam_proba>=threshold,1,0)"
   ]
  },
  {
   "cell_type": "code",
   "execution_count": 92,
   "id": "210c8c9a",
   "metadata": {},
   "outputs": [
    {
     "data": {
      "text/plain": [
       "0.143"
      ]
     },
     "execution_count": 92,
     "metadata": {},
     "output_type": "execute_result"
    }
   ],
   "source": [
    "df_pred[\"is_spam_hat\"].mean()"
   ]
  },
  {
   "cell_type": "code",
   "execution_count": 93,
   "id": "112b2261",
   "metadata": {},
   "outputs": [
    {
     "data": {
      "text/html": [
       "<div>\n",
       "<style scoped>\n",
       "    .dataframe tbody tr th:only-of-type {\n",
       "        vertical-align: middle;\n",
       "    }\n",
       "\n",
       "    .dataframe tbody tr th {\n",
       "        vertical-align: top;\n",
       "    }\n",
       "\n",
       "    .dataframe thead th {\n",
       "        text-align: right;\n",
       "    }\n",
       "</style>\n",
       "<table border=\"1\" class=\"dataframe\">\n",
       "  <thead>\n",
       "    <tr style=\"text-align: right;\">\n",
       "      <th></th>\n",
       "      <th>category_idx</th>\n",
       "      <th>spam_proba</th>\n",
       "      <th>label_hat</th>\n",
       "      <th>label_true</th>\n",
       "      <th>is_spam_hat</th>\n",
       "    </tr>\n",
       "  </thead>\n",
       "  <tbody>\n",
       "    <tr>\n",
       "      <th>0</th>\n",
       "      <td>0</td>\n",
       "      <td>0.000004</td>\n",
       "      <td>ham</td>\n",
       "      <td>ham</td>\n",
       "      <td>0</td>\n",
       "    </tr>\n",
       "    <tr>\n",
       "      <th>1</th>\n",
       "      <td>0</td>\n",
       "      <td>0.000009</td>\n",
       "      <td>ham</td>\n",
       "      <td>ham</td>\n",
       "      <td>0</td>\n",
       "    </tr>\n",
       "    <tr>\n",
       "      <th>2</th>\n",
       "      <td>0</td>\n",
       "      <td>0.008195</td>\n",
       "      <td>ham</td>\n",
       "      <td>ham</td>\n",
       "      <td>0</td>\n",
       "    </tr>\n",
       "    <tr>\n",
       "      <th>3</th>\n",
       "      <td>0</td>\n",
       "      <td>0.000002</td>\n",
       "      <td>ham</td>\n",
       "      <td>ham</td>\n",
       "      <td>0</td>\n",
       "    </tr>\n",
       "    <tr>\n",
       "      <th>4</th>\n",
       "      <td>1</td>\n",
       "      <td>0.999990</td>\n",
       "      <td>spam</td>\n",
       "      <td>spam</td>\n",
       "      <td>1</td>\n",
       "    </tr>\n",
       "    <tr>\n",
       "      <th>...</th>\n",
       "      <td>...</td>\n",
       "      <td>...</td>\n",
       "      <td>...</td>\n",
       "      <td>...</td>\n",
       "      <td>...</td>\n",
       "    </tr>\n",
       "    <tr>\n",
       "      <th>995</th>\n",
       "      <td>0</td>\n",
       "      <td>0.000006</td>\n",
       "      <td>ham</td>\n",
       "      <td>ham</td>\n",
       "      <td>0</td>\n",
       "    </tr>\n",
       "    <tr>\n",
       "      <th>996</th>\n",
       "      <td>0</td>\n",
       "      <td>0.000002</td>\n",
       "      <td>ham</td>\n",
       "      <td>ham</td>\n",
       "      <td>0</td>\n",
       "    </tr>\n",
       "    <tr>\n",
       "      <th>997</th>\n",
       "      <td>0</td>\n",
       "      <td>0.000041</td>\n",
       "      <td>ham</td>\n",
       "      <td>ham</td>\n",
       "      <td>0</td>\n",
       "    </tr>\n",
       "    <tr>\n",
       "      <th>998</th>\n",
       "      <td>0</td>\n",
       "      <td>0.000052</td>\n",
       "      <td>ham</td>\n",
       "      <td>ham</td>\n",
       "      <td>0</td>\n",
       "    </tr>\n",
       "    <tr>\n",
       "      <th>999</th>\n",
       "      <td>0</td>\n",
       "      <td>0.000003</td>\n",
       "      <td>ham</td>\n",
       "      <td>ham</td>\n",
       "      <td>0</td>\n",
       "    </tr>\n",
       "  </tbody>\n",
       "</table>\n",
       "<p>1000 rows × 5 columns</p>\n",
       "</div>"
      ],
      "text/plain": [
       "     category_idx  spam_proba label_hat label_true  is_spam_hat\n",
       "0               0    0.000004       ham        ham            0\n",
       "1               0    0.000009       ham        ham            0\n",
       "2               0    0.008195       ham        ham            0\n",
       "3               0    0.000002       ham        ham            0\n",
       "4               1    0.999990      spam       spam            1\n",
       "..            ...         ...       ...        ...          ...\n",
       "995             0    0.000006       ham        ham            0\n",
       "996             0    0.000002       ham        ham            0\n",
       "997             0    0.000041       ham        ham            0\n",
       "998             0    0.000052       ham        ham            0\n",
       "999             0    0.000003       ham        ham            0\n",
       "\n",
       "[1000 rows x 5 columns]"
      ]
     },
     "execution_count": 93,
     "metadata": {},
     "output_type": "execute_result"
    }
   ],
   "source": [
    "df_pred"
   ]
  },
  {
   "cell_type": "code",
   "execution_count": 94,
   "id": "0dda8855",
   "metadata": {},
   "outputs": [],
   "source": [
    "df_pred[\"is_spam_true\"] = np.where(df_pred.label_true == \"spam\",1,0)"
   ]
  },
  {
   "cell_type": "markdown",
   "id": "5fa8bb17",
   "metadata": {},
   "source": [
    "Calculate precision and recall"
   ]
  },
  {
   "cell_type": "code",
   "execution_count": 95,
   "id": "fbf3e2b5",
   "metadata": {},
   "outputs": [
    {
     "data": {
      "text/plain": [
       "0.958041958041958"
      ]
     },
     "execution_count": 95,
     "metadata": {},
     "output_type": "execute_result"
    }
   ],
   "source": [
    "precision_score(df_pred.is_spam_true, df_pred.is_spam_hat)"
   ]
  },
  {
   "cell_type": "code",
   "execution_count": 96,
   "id": "cb7a1803",
   "metadata": {},
   "outputs": [
    {
     "data": {
      "text/plain": [
       "0.8896103896103896"
      ]
     },
     "execution_count": 96,
     "metadata": {},
     "output_type": "execute_result"
    }
   ],
   "source": [
    "recall_score(df_pred.is_spam_true, df_pred.is_spam_hat)"
   ]
  },
  {
   "cell_type": "code",
   "execution_count": 97,
   "id": "00f1a4ac",
   "metadata": {},
   "outputs": [
    {
     "data": {
      "text/plain": [
       "0.5"
      ]
     },
     "execution_count": 97,
     "metadata": {},
     "output_type": "execute_result"
    }
   ],
   "source": [
    "threshold"
   ]
  },
  {
   "cell_type": "markdown",
   "id": "4064d9d3",
   "metadata": {},
   "source": [
    "Create a function, which calculates recall and precision for threshold in range of 0-0.99"
   ]
  },
  {
   "cell_type": "code",
   "execution_count": 98,
   "id": "447b73d9",
   "metadata": {},
   "outputs": [],
   "source": [
    "def metrics_by_threshold(df_pred):\n",
    "    metrics = []\n",
    "    for i in range(0,100):\n",
    "        threshold = i/100\n",
    "        #Calculate spam_hat based on threshold\n",
    "        df_pred[\"is_spam_hat\"] = np.where(df_pred.spam_proba>=threshold,1,0)\n",
    "        recall = recall_score(df_pred.is_spam_true, df_pred.is_spam_hat)\n",
    "        precision = precision_score(df_pred.is_spam_true, df_pred.is_spam_hat)\n",
    "        \n",
    "        #Create a list of dicts in format easily convertible to df\n",
    "        metrics.append({\"threshold\":threshold,\n",
    "                       \"recall\":recall,\n",
    "                       \"precision\":precision})\n",
    "        \n",
    "    return pd.DataFrame(metrics)"
   ]
  },
  {
   "cell_type": "code",
   "execution_count": 99,
   "id": "c1d0403e",
   "metadata": {},
   "outputs": [],
   "source": [
    "df_scores = metrics_by_threshold(df_pred)"
   ]
  },
  {
   "cell_type": "code",
   "execution_count": 108,
   "id": "d6140ab4",
   "metadata": {},
   "outputs": [
    {
     "data": {
      "application/vnd.plotly.v1+json": {
       "config": {
        "linkText": "Export to plotly.com",
        "plotlyServerURL": "https://plotly.com",
        "showLink": false
       },
       "data": [
        {
         "marker": {
          "size": 5
         },
         "mode": "lines",
         "name": "precision",
         "type": "scatter",
         "x": [
          0,
          0.01,
          0.02,
          0.03,
          0.04,
          0.05,
          0.06,
          0.07,
          0.08,
          0.09,
          0.1,
          0.11,
          0.12,
          0.13,
          0.14,
          0.15,
          0.16,
          0.17,
          0.18,
          0.19,
          0.2,
          0.21,
          0.22,
          0.23,
          0.24,
          0.25,
          0.26,
          0.27,
          0.28,
          0.29,
          0.3,
          0.31,
          0.32,
          0.33,
          0.34,
          0.35,
          0.36,
          0.37,
          0.38,
          0.39,
          0.4,
          0.41,
          0.42,
          0.43,
          0.44,
          0.45,
          0.46,
          0.47,
          0.48,
          0.49,
          0.5,
          0.51,
          0.52,
          0.53,
          0.54,
          0.55,
          0.56,
          0.57,
          0.58,
          0.59,
          0.6,
          0.61,
          0.62,
          0.63,
          0.64,
          0.65,
          0.66,
          0.67,
          0.68,
          0.69,
          0.7,
          0.71,
          0.72,
          0.73,
          0.74,
          0.75,
          0.76,
          0.77,
          0.78,
          0.79,
          0.8,
          0.81,
          0.82,
          0.83,
          0.84,
          0.85,
          0.86,
          0.87,
          0.88,
          0.89,
          0.9,
          0.91,
          0.92,
          0.93,
          0.94,
          0.95,
          0.96,
          0.97,
          0.98,
          0.99
         ],
         "y": [
          0.154,
          0.92,
          0.9261744966442953,
          0.9261744966442953,
          0.9261744966442953,
          0.9261744966442953,
          0.9261744966442953,
          0.9261744966442953,
          0.9261744966442953,
          0.9324324324324325,
          0.9387755102040817,
          0.9387755102040817,
          0.9387755102040817,
          0.9452054794520548,
          0.9452054794520548,
          0.9452054794520548,
          0.9452054794520548,
          0.9452054794520548,
          0.9452054794520548,
          0.9452054794520548,
          0.9452054794520548,
          0.9452054794520548,
          0.9452054794520548,
          0.9452054794520548,
          0.9517241379310345,
          0.9517241379310345,
          0.9517241379310345,
          0.9513888888888888,
          0.9513888888888888,
          0.9513888888888888,
          0.958041958041958,
          0.958041958041958,
          0.958041958041958,
          0.958041958041958,
          0.958041958041958,
          0.958041958041958,
          0.958041958041958,
          0.958041958041958,
          0.958041958041958,
          0.958041958041958,
          0.958041958041958,
          0.958041958041958,
          0.958041958041958,
          0.958041958041958,
          0.958041958041958,
          0.958041958041958,
          0.958041958041958,
          0.958041958041958,
          0.958041958041958,
          0.958041958041958,
          0.958041958041958,
          0.958041958041958,
          0.958041958041958,
          0.958041958041958,
          0.958041958041958,
          0.958041958041958,
          0.958041958041958,
          0.958041958041958,
          0.958041958041958,
          0.958041958041958,
          0.958041958041958,
          0.958041958041958,
          0.9647887323943662,
          0.9647887323943662,
          0.9647887323943662,
          0.9647887323943662,
          0.9647887323943662,
          0.9647887323943662,
          0.9647887323943662,
          0.9647887323943662,
          0.9647887323943662,
          0.9647887323943662,
          0.9647887323943662,
          0.9647887323943662,
          0.9716312056737588,
          0.9716312056737588,
          0.9714285714285714,
          0.9714285714285714,
          0.9714285714285714,
          0.9714285714285714,
          0.9784172661870504,
          0.9784172661870504,
          0.9784172661870504,
          0.9784172661870504,
          0.9784172661870504,
          0.9784172661870504,
          0.9782608695652174,
          0.9782608695652174,
          0.9782608695652174,
          0.9782608695652174,
          0.9782608695652174,
          0.9781021897810219,
          0.9781021897810219,
          0.9781021897810219,
          0.9781021897810219,
          0.9781021897810219,
          0.9781021897810219,
          0.9779411764705882,
          0.9777777777777777,
          0.9772727272727273
         ]
        },
        {
         "marker": {
          "size": 5
         },
         "mode": "lines",
         "name": "recall",
         "type": "scatter",
         "x": [
          0,
          0.01,
          0.02,
          0.03,
          0.04,
          0.05,
          0.06,
          0.07,
          0.08,
          0.09,
          0.1,
          0.11,
          0.12,
          0.13,
          0.14,
          0.15,
          0.16,
          0.17,
          0.18,
          0.19,
          0.2,
          0.21,
          0.22,
          0.23,
          0.24,
          0.25,
          0.26,
          0.27,
          0.28,
          0.29,
          0.3,
          0.31,
          0.32,
          0.33,
          0.34,
          0.35,
          0.36,
          0.37,
          0.38,
          0.39,
          0.4,
          0.41,
          0.42,
          0.43,
          0.44,
          0.45,
          0.46,
          0.47,
          0.48,
          0.49,
          0.5,
          0.51,
          0.52,
          0.53,
          0.54,
          0.55,
          0.56,
          0.57,
          0.58,
          0.59,
          0.6,
          0.61,
          0.62,
          0.63,
          0.64,
          0.65,
          0.66,
          0.67,
          0.68,
          0.69,
          0.7,
          0.71,
          0.72,
          0.73,
          0.74,
          0.75,
          0.76,
          0.77,
          0.78,
          0.79,
          0.8,
          0.81,
          0.82,
          0.83,
          0.84,
          0.85,
          0.86,
          0.87,
          0.88,
          0.89,
          0.9,
          0.91,
          0.92,
          0.93,
          0.94,
          0.95,
          0.96,
          0.97,
          0.98,
          0.99
         ],
         "y": [
          1,
          0.8961038961038961,
          0.8961038961038961,
          0.8961038961038961,
          0.8961038961038961,
          0.8961038961038961,
          0.8961038961038961,
          0.8961038961038961,
          0.8961038961038961,
          0.8961038961038961,
          0.8961038961038961,
          0.8961038961038961,
          0.8961038961038961,
          0.8961038961038961,
          0.8961038961038961,
          0.8961038961038961,
          0.8961038961038961,
          0.8961038961038961,
          0.8961038961038961,
          0.8961038961038961,
          0.8961038961038961,
          0.8961038961038961,
          0.8961038961038961,
          0.8961038961038961,
          0.8961038961038961,
          0.8961038961038961,
          0.8961038961038961,
          0.8896103896103896,
          0.8896103896103896,
          0.8896103896103896,
          0.8896103896103896,
          0.8896103896103896,
          0.8896103896103896,
          0.8896103896103896,
          0.8896103896103896,
          0.8896103896103896,
          0.8896103896103896,
          0.8896103896103896,
          0.8896103896103896,
          0.8896103896103896,
          0.8896103896103896,
          0.8896103896103896,
          0.8896103896103896,
          0.8896103896103896,
          0.8896103896103896,
          0.8896103896103896,
          0.8896103896103896,
          0.8896103896103896,
          0.8896103896103896,
          0.8896103896103896,
          0.8896103896103896,
          0.8896103896103896,
          0.8896103896103896,
          0.8896103896103896,
          0.8896103896103896,
          0.8896103896103896,
          0.8896103896103896,
          0.8896103896103896,
          0.8896103896103896,
          0.8896103896103896,
          0.8896103896103896,
          0.8896103896103896,
          0.8896103896103896,
          0.8896103896103896,
          0.8896103896103896,
          0.8896103896103896,
          0.8896103896103896,
          0.8896103896103896,
          0.8896103896103896,
          0.8896103896103896,
          0.8896103896103896,
          0.8896103896103896,
          0.8896103896103896,
          0.8896103896103896,
          0.8896103896103896,
          0.8896103896103896,
          0.8831168831168831,
          0.8831168831168831,
          0.8831168831168831,
          0.8831168831168831,
          0.8831168831168831,
          0.8831168831168831,
          0.8831168831168831,
          0.8831168831168831,
          0.8831168831168831,
          0.8831168831168831,
          0.8766233766233766,
          0.8766233766233766,
          0.8766233766233766,
          0.8766233766233766,
          0.8766233766233766,
          0.8701298701298701,
          0.8701298701298701,
          0.8701298701298701,
          0.8701298701298701,
          0.8701298701298701,
          0.8701298701298701,
          0.8636363636363636,
          0.8571428571428571,
          0.8376623376623377
         ]
        }
       ],
       "layout": {
        "template": {
         "data": {
          "bar": [
           {
            "error_x": {
             "color": "#2a3f5f"
            },
            "error_y": {
             "color": "#2a3f5f"
            },
            "marker": {
             "line": {
              "color": "#E5ECF6",
              "width": 0.5
             }
            },
            "type": "bar"
           }
          ],
          "barpolar": [
           {
            "marker": {
             "line": {
              "color": "#E5ECF6",
              "width": 0.5
             }
            },
            "type": "barpolar"
           }
          ],
          "carpet": [
           {
            "aaxis": {
             "endlinecolor": "#2a3f5f",
             "gridcolor": "white",
             "linecolor": "white",
             "minorgridcolor": "white",
             "startlinecolor": "#2a3f5f"
            },
            "baxis": {
             "endlinecolor": "#2a3f5f",
             "gridcolor": "white",
             "linecolor": "white",
             "minorgridcolor": "white",
             "startlinecolor": "#2a3f5f"
            },
            "type": "carpet"
           }
          ],
          "choropleth": [
           {
            "colorbar": {
             "outlinewidth": 0,
             "ticks": ""
            },
            "type": "choropleth"
           }
          ],
          "contour": [
           {
            "colorbar": {
             "outlinewidth": 0,
             "ticks": ""
            },
            "colorscale": [
             [
              0,
              "#0d0887"
             ],
             [
              0.1111111111111111,
              "#46039f"
             ],
             [
              0.2222222222222222,
              "#7201a8"
             ],
             [
              0.3333333333333333,
              "#9c179e"
             ],
             [
              0.4444444444444444,
              "#bd3786"
             ],
             [
              0.5555555555555556,
              "#d8576b"
             ],
             [
              0.6666666666666666,
              "#ed7953"
             ],
             [
              0.7777777777777778,
              "#fb9f3a"
             ],
             [
              0.8888888888888888,
              "#fdca26"
             ],
             [
              1,
              "#f0f921"
             ]
            ],
            "type": "contour"
           }
          ],
          "contourcarpet": [
           {
            "colorbar": {
             "outlinewidth": 0,
             "ticks": ""
            },
            "type": "contourcarpet"
           }
          ],
          "heatmap": [
           {
            "colorbar": {
             "outlinewidth": 0,
             "ticks": ""
            },
            "colorscale": [
             [
              0,
              "#0d0887"
             ],
             [
              0.1111111111111111,
              "#46039f"
             ],
             [
              0.2222222222222222,
              "#7201a8"
             ],
             [
              0.3333333333333333,
              "#9c179e"
             ],
             [
              0.4444444444444444,
              "#bd3786"
             ],
             [
              0.5555555555555556,
              "#d8576b"
             ],
             [
              0.6666666666666666,
              "#ed7953"
             ],
             [
              0.7777777777777778,
              "#fb9f3a"
             ],
             [
              0.8888888888888888,
              "#fdca26"
             ],
             [
              1,
              "#f0f921"
             ]
            ],
            "type": "heatmap"
           }
          ],
          "heatmapgl": [
           {
            "colorbar": {
             "outlinewidth": 0,
             "ticks": ""
            },
            "colorscale": [
             [
              0,
              "#0d0887"
             ],
             [
              0.1111111111111111,
              "#46039f"
             ],
             [
              0.2222222222222222,
              "#7201a8"
             ],
             [
              0.3333333333333333,
              "#9c179e"
             ],
             [
              0.4444444444444444,
              "#bd3786"
             ],
             [
              0.5555555555555556,
              "#d8576b"
             ],
             [
              0.6666666666666666,
              "#ed7953"
             ],
             [
              0.7777777777777778,
              "#fb9f3a"
             ],
             [
              0.8888888888888888,
              "#fdca26"
             ],
             [
              1,
              "#f0f921"
             ]
            ],
            "type": "heatmapgl"
           }
          ],
          "histogram": [
           {
            "marker": {
             "colorbar": {
              "outlinewidth": 0,
              "ticks": ""
             }
            },
            "type": "histogram"
           }
          ],
          "histogram2d": [
           {
            "colorbar": {
             "outlinewidth": 0,
             "ticks": ""
            },
            "colorscale": [
             [
              0,
              "#0d0887"
             ],
             [
              0.1111111111111111,
              "#46039f"
             ],
             [
              0.2222222222222222,
              "#7201a8"
             ],
             [
              0.3333333333333333,
              "#9c179e"
             ],
             [
              0.4444444444444444,
              "#bd3786"
             ],
             [
              0.5555555555555556,
              "#d8576b"
             ],
             [
              0.6666666666666666,
              "#ed7953"
             ],
             [
              0.7777777777777778,
              "#fb9f3a"
             ],
             [
              0.8888888888888888,
              "#fdca26"
             ],
             [
              1,
              "#f0f921"
             ]
            ],
            "type": "histogram2d"
           }
          ],
          "histogram2dcontour": [
           {
            "colorbar": {
             "outlinewidth": 0,
             "ticks": ""
            },
            "colorscale": [
             [
              0,
              "#0d0887"
             ],
             [
              0.1111111111111111,
              "#46039f"
             ],
             [
              0.2222222222222222,
              "#7201a8"
             ],
             [
              0.3333333333333333,
              "#9c179e"
             ],
             [
              0.4444444444444444,
              "#bd3786"
             ],
             [
              0.5555555555555556,
              "#d8576b"
             ],
             [
              0.6666666666666666,
              "#ed7953"
             ],
             [
              0.7777777777777778,
              "#fb9f3a"
             ],
             [
              0.8888888888888888,
              "#fdca26"
             ],
             [
              1,
              "#f0f921"
             ]
            ],
            "type": "histogram2dcontour"
           }
          ],
          "mesh3d": [
           {
            "colorbar": {
             "outlinewidth": 0,
             "ticks": ""
            },
            "type": "mesh3d"
           }
          ],
          "parcoords": [
           {
            "line": {
             "colorbar": {
              "outlinewidth": 0,
              "ticks": ""
             }
            },
            "type": "parcoords"
           }
          ],
          "pie": [
           {
            "automargin": true,
            "type": "pie"
           }
          ],
          "scatter": [
           {
            "marker": {
             "colorbar": {
              "outlinewidth": 0,
              "ticks": ""
             }
            },
            "type": "scatter"
           }
          ],
          "scatter3d": [
           {
            "line": {
             "colorbar": {
              "outlinewidth": 0,
              "ticks": ""
             }
            },
            "marker": {
             "colorbar": {
              "outlinewidth": 0,
              "ticks": ""
             }
            },
            "type": "scatter3d"
           }
          ],
          "scattercarpet": [
           {
            "marker": {
             "colorbar": {
              "outlinewidth": 0,
              "ticks": ""
             }
            },
            "type": "scattercarpet"
           }
          ],
          "scattergeo": [
           {
            "marker": {
             "colorbar": {
              "outlinewidth": 0,
              "ticks": ""
             }
            },
            "type": "scattergeo"
           }
          ],
          "scattergl": [
           {
            "marker": {
             "colorbar": {
              "outlinewidth": 0,
              "ticks": ""
             }
            },
            "type": "scattergl"
           }
          ],
          "scattermapbox": [
           {
            "marker": {
             "colorbar": {
              "outlinewidth": 0,
              "ticks": ""
             }
            },
            "type": "scattermapbox"
           }
          ],
          "scatterpolar": [
           {
            "marker": {
             "colorbar": {
              "outlinewidth": 0,
              "ticks": ""
             }
            },
            "type": "scatterpolar"
           }
          ],
          "scatterpolargl": [
           {
            "marker": {
             "colorbar": {
              "outlinewidth": 0,
              "ticks": ""
             }
            },
            "type": "scatterpolargl"
           }
          ],
          "scatterternary": [
           {
            "marker": {
             "colorbar": {
              "outlinewidth": 0,
              "ticks": ""
             }
            },
            "type": "scatterternary"
           }
          ],
          "surface": [
           {
            "colorbar": {
             "outlinewidth": 0,
             "ticks": ""
            },
            "colorscale": [
             [
              0,
              "#0d0887"
             ],
             [
              0.1111111111111111,
              "#46039f"
             ],
             [
              0.2222222222222222,
              "#7201a8"
             ],
             [
              0.3333333333333333,
              "#9c179e"
             ],
             [
              0.4444444444444444,
              "#bd3786"
             ],
             [
              0.5555555555555556,
              "#d8576b"
             ],
             [
              0.6666666666666666,
              "#ed7953"
             ],
             [
              0.7777777777777778,
              "#fb9f3a"
             ],
             [
              0.8888888888888888,
              "#fdca26"
             ],
             [
              1,
              "#f0f921"
             ]
            ],
            "type": "surface"
           }
          ],
          "table": [
           {
            "cells": {
             "fill": {
              "color": "#EBF0F8"
             },
             "line": {
              "color": "white"
             }
            },
            "header": {
             "fill": {
              "color": "#C8D4E3"
             },
             "line": {
              "color": "white"
             }
            },
            "type": "table"
           }
          ]
         },
         "layout": {
          "annotationdefaults": {
           "arrowcolor": "#2a3f5f",
           "arrowhead": 0,
           "arrowwidth": 1
          },
          "coloraxis": {
           "colorbar": {
            "outlinewidth": 0,
            "ticks": ""
           }
          },
          "colorscale": {
           "diverging": [
            [
             0,
             "#8e0152"
            ],
            [
             0.1,
             "#c51b7d"
            ],
            [
             0.2,
             "#de77ae"
            ],
            [
             0.3,
             "#f1b6da"
            ],
            [
             0.4,
             "#fde0ef"
            ],
            [
             0.5,
             "#f7f7f7"
            ],
            [
             0.6,
             "#e6f5d0"
            ],
            [
             0.7,
             "#b8e186"
            ],
            [
             0.8,
             "#7fbc41"
            ],
            [
             0.9,
             "#4d9221"
            ],
            [
             1,
             "#276419"
            ]
           ],
           "sequential": [
            [
             0,
             "#0d0887"
            ],
            [
             0.1111111111111111,
             "#46039f"
            ],
            [
             0.2222222222222222,
             "#7201a8"
            ],
            [
             0.3333333333333333,
             "#9c179e"
            ],
            [
             0.4444444444444444,
             "#bd3786"
            ],
            [
             0.5555555555555556,
             "#d8576b"
            ],
            [
             0.6666666666666666,
             "#ed7953"
            ],
            [
             0.7777777777777778,
             "#fb9f3a"
            ],
            [
             0.8888888888888888,
             "#fdca26"
            ],
            [
             1,
             "#f0f921"
            ]
           ],
           "sequentialminus": [
            [
             0,
             "#0d0887"
            ],
            [
             0.1111111111111111,
             "#46039f"
            ],
            [
             0.2222222222222222,
             "#7201a8"
            ],
            [
             0.3333333333333333,
             "#9c179e"
            ],
            [
             0.4444444444444444,
             "#bd3786"
            ],
            [
             0.5555555555555556,
             "#d8576b"
            ],
            [
             0.6666666666666666,
             "#ed7953"
            ],
            [
             0.7777777777777778,
             "#fb9f3a"
            ],
            [
             0.8888888888888888,
             "#fdca26"
            ],
            [
             1,
             "#f0f921"
            ]
           ]
          },
          "colorway": [
           "#636efa",
           "#EF553B",
           "#00cc96",
           "#ab63fa",
           "#FFA15A",
           "#19d3f3",
           "#FF6692",
           "#B6E880",
           "#FF97FF",
           "#FECB52"
          ],
          "font": {
           "color": "#2a3f5f"
          },
          "geo": {
           "bgcolor": "white",
           "lakecolor": "white",
           "landcolor": "#E5ECF6",
           "showlakes": true,
           "showland": true,
           "subunitcolor": "white"
          },
          "hoverlabel": {
           "align": "left"
          },
          "hovermode": "closest",
          "mapbox": {
           "style": "light"
          },
          "paper_bgcolor": "white",
          "plot_bgcolor": "#E5ECF6",
          "polar": {
           "angularaxis": {
            "gridcolor": "white",
            "linecolor": "white",
            "ticks": ""
           },
           "bgcolor": "#E5ECF6",
           "radialaxis": {
            "gridcolor": "white",
            "linecolor": "white",
            "ticks": ""
           }
          },
          "scene": {
           "xaxis": {
            "backgroundcolor": "#E5ECF6",
            "gridcolor": "white",
            "gridwidth": 2,
            "linecolor": "white",
            "showbackground": true,
            "ticks": "",
            "zerolinecolor": "white"
           },
           "yaxis": {
            "backgroundcolor": "#E5ECF6",
            "gridcolor": "white",
            "gridwidth": 2,
            "linecolor": "white",
            "showbackground": true,
            "ticks": "",
            "zerolinecolor": "white"
           },
           "zaxis": {
            "backgroundcolor": "#E5ECF6",
            "gridcolor": "white",
            "gridwidth": 2,
            "linecolor": "white",
            "showbackground": true,
            "ticks": "",
            "zerolinecolor": "white"
           }
          },
          "shapedefaults": {
           "line": {
            "color": "#2a3f5f"
           }
          },
          "ternary": {
           "aaxis": {
            "gridcolor": "white",
            "linecolor": "white",
            "ticks": ""
           },
           "baxis": {
            "gridcolor": "white",
            "linecolor": "white",
            "ticks": ""
           },
           "bgcolor": "#E5ECF6",
           "caxis": {
            "gridcolor": "white",
            "linecolor": "white",
            "ticks": ""
           }
          },
          "title": {
           "x": 0.05
          },
          "xaxis": {
           "automargin": true,
           "gridcolor": "white",
           "linecolor": "white",
           "ticks": "",
           "title": {
            "standoff": 15
           },
           "zerolinecolor": "white",
           "zerolinewidth": 2
          },
          "yaxis": {
           "automargin": true,
           "gridcolor": "white",
           "linecolor": "white",
           "ticks": "",
           "title": {
            "standoff": 15
           },
           "zerolinecolor": "white",
           "zerolinewidth": 2
          }
         }
        },
        "title": {
         "text": "<b>Precision and Recall by threshold"
        }
       }
      },
      "text/html": [
       "<div>\n",
       "        \n",
       "        \n",
       "            <div id=\"20876c05-7fa4-4e21-9581-e7660ee04c46\" class=\"plotly-graph-div\" style=\"height:525px; width:100%;\"></div>\n",
       "            <script type=\"text/javascript\">\n",
       "                require([\"plotly\"], function(Plotly) {\n",
       "                    window.PLOTLYENV=window.PLOTLYENV || {};\n",
       "                    \n",
       "                if (document.getElementById(\"20876c05-7fa4-4e21-9581-e7660ee04c46\")) {\n",
       "                    Plotly.newPlot(\n",
       "                        '20876c05-7fa4-4e21-9581-e7660ee04c46',\n",
       "                        [{\"marker\": {\"size\": 5}, \"mode\": \"lines\", \"name\": \"precision\", \"type\": \"scatter\", \"x\": [0.0, 0.01, 0.02, 0.03, 0.04, 0.05, 0.06, 0.07, 0.08, 0.09, 0.1, 0.11, 0.12, 0.13, 0.14, 0.15, 0.16, 0.17, 0.18, 0.19, 0.2, 0.21, 0.22, 0.23, 0.24, 0.25, 0.26, 0.27, 0.28, 0.29, 0.3, 0.31, 0.32, 0.33, 0.34, 0.35, 0.36, 0.37, 0.38, 0.39, 0.4, 0.41, 0.42, 0.43, 0.44, 0.45, 0.46, 0.47, 0.48, 0.49, 0.5, 0.51, 0.52, 0.53, 0.54, 0.55, 0.56, 0.57, 0.58, 0.59, 0.6, 0.61, 0.62, 0.63, 0.64, 0.65, 0.66, 0.67, 0.68, 0.69, 0.7, 0.71, 0.72, 0.73, 0.74, 0.75, 0.76, 0.77, 0.78, 0.79, 0.8, 0.81, 0.82, 0.83, 0.84, 0.85, 0.86, 0.87, 0.88, 0.89, 0.9, 0.91, 0.92, 0.93, 0.94, 0.95, 0.96, 0.97, 0.98, 0.99], \"y\": [0.154, 0.92, 0.9261744966442953, 0.9261744966442953, 0.9261744966442953, 0.9261744966442953, 0.9261744966442953, 0.9261744966442953, 0.9261744966442953, 0.9324324324324325, 0.9387755102040817, 0.9387755102040817, 0.9387755102040817, 0.9452054794520548, 0.9452054794520548, 0.9452054794520548, 0.9452054794520548, 0.9452054794520548, 0.9452054794520548, 0.9452054794520548, 0.9452054794520548, 0.9452054794520548, 0.9452054794520548, 0.9452054794520548, 0.9517241379310345, 0.9517241379310345, 0.9517241379310345, 0.9513888888888888, 0.9513888888888888, 0.9513888888888888, 0.958041958041958, 0.958041958041958, 0.958041958041958, 0.958041958041958, 0.958041958041958, 0.958041958041958, 0.958041958041958, 0.958041958041958, 0.958041958041958, 0.958041958041958, 0.958041958041958, 0.958041958041958, 0.958041958041958, 0.958041958041958, 0.958041958041958, 0.958041958041958, 0.958041958041958, 0.958041958041958, 0.958041958041958, 0.958041958041958, 0.958041958041958, 0.958041958041958, 0.958041958041958, 0.958041958041958, 0.958041958041958, 0.958041958041958, 0.958041958041958, 0.958041958041958, 0.958041958041958, 0.958041958041958, 0.958041958041958, 0.958041958041958, 0.9647887323943662, 0.9647887323943662, 0.9647887323943662, 0.9647887323943662, 0.9647887323943662, 0.9647887323943662, 0.9647887323943662, 0.9647887323943662, 0.9647887323943662, 0.9647887323943662, 0.9647887323943662, 0.9647887323943662, 0.9716312056737588, 0.9716312056737588, 0.9714285714285714, 0.9714285714285714, 0.9714285714285714, 0.9714285714285714, 0.9784172661870504, 0.9784172661870504, 0.9784172661870504, 0.9784172661870504, 0.9784172661870504, 0.9784172661870504, 0.9782608695652174, 0.9782608695652174, 0.9782608695652174, 0.9782608695652174, 0.9782608695652174, 0.9781021897810219, 0.9781021897810219, 0.9781021897810219, 0.9781021897810219, 0.9781021897810219, 0.9781021897810219, 0.9779411764705882, 0.9777777777777777, 0.9772727272727273]}, {\"marker\": {\"size\": 5}, \"mode\": \"lines\", \"name\": \"recall\", \"type\": \"scatter\", \"x\": [0.0, 0.01, 0.02, 0.03, 0.04, 0.05, 0.06, 0.07, 0.08, 0.09, 0.1, 0.11, 0.12, 0.13, 0.14, 0.15, 0.16, 0.17, 0.18, 0.19, 0.2, 0.21, 0.22, 0.23, 0.24, 0.25, 0.26, 0.27, 0.28, 0.29, 0.3, 0.31, 0.32, 0.33, 0.34, 0.35, 0.36, 0.37, 0.38, 0.39, 0.4, 0.41, 0.42, 0.43, 0.44, 0.45, 0.46, 0.47, 0.48, 0.49, 0.5, 0.51, 0.52, 0.53, 0.54, 0.55, 0.56, 0.57, 0.58, 0.59, 0.6, 0.61, 0.62, 0.63, 0.64, 0.65, 0.66, 0.67, 0.68, 0.69, 0.7, 0.71, 0.72, 0.73, 0.74, 0.75, 0.76, 0.77, 0.78, 0.79, 0.8, 0.81, 0.82, 0.83, 0.84, 0.85, 0.86, 0.87, 0.88, 0.89, 0.9, 0.91, 0.92, 0.93, 0.94, 0.95, 0.96, 0.97, 0.98, 0.99], \"y\": [1.0, 0.8961038961038961, 0.8961038961038961, 0.8961038961038961, 0.8961038961038961, 0.8961038961038961, 0.8961038961038961, 0.8961038961038961, 0.8961038961038961, 0.8961038961038961, 0.8961038961038961, 0.8961038961038961, 0.8961038961038961, 0.8961038961038961, 0.8961038961038961, 0.8961038961038961, 0.8961038961038961, 0.8961038961038961, 0.8961038961038961, 0.8961038961038961, 0.8961038961038961, 0.8961038961038961, 0.8961038961038961, 0.8961038961038961, 0.8961038961038961, 0.8961038961038961, 0.8961038961038961, 0.8896103896103896, 0.8896103896103896, 0.8896103896103896, 0.8896103896103896, 0.8896103896103896, 0.8896103896103896, 0.8896103896103896, 0.8896103896103896, 0.8896103896103896, 0.8896103896103896, 0.8896103896103896, 0.8896103896103896, 0.8896103896103896, 0.8896103896103896, 0.8896103896103896, 0.8896103896103896, 0.8896103896103896, 0.8896103896103896, 0.8896103896103896, 0.8896103896103896, 0.8896103896103896, 0.8896103896103896, 0.8896103896103896, 0.8896103896103896, 0.8896103896103896, 0.8896103896103896, 0.8896103896103896, 0.8896103896103896, 0.8896103896103896, 0.8896103896103896, 0.8896103896103896, 0.8896103896103896, 0.8896103896103896, 0.8896103896103896, 0.8896103896103896, 0.8896103896103896, 0.8896103896103896, 0.8896103896103896, 0.8896103896103896, 0.8896103896103896, 0.8896103896103896, 0.8896103896103896, 0.8896103896103896, 0.8896103896103896, 0.8896103896103896, 0.8896103896103896, 0.8896103896103896, 0.8896103896103896, 0.8896103896103896, 0.8831168831168831, 0.8831168831168831, 0.8831168831168831, 0.8831168831168831, 0.8831168831168831, 0.8831168831168831, 0.8831168831168831, 0.8831168831168831, 0.8831168831168831, 0.8831168831168831, 0.8766233766233766, 0.8766233766233766, 0.8766233766233766, 0.8766233766233766, 0.8766233766233766, 0.8701298701298701, 0.8701298701298701, 0.8701298701298701, 0.8701298701298701, 0.8701298701298701, 0.8701298701298701, 0.8636363636363636, 0.8571428571428571, 0.8376623376623377]}],\n",
       "                        {\"template\": {\"data\": {\"bar\": [{\"error_x\": {\"color\": \"#2a3f5f\"}, \"error_y\": {\"color\": \"#2a3f5f\"}, \"marker\": {\"line\": {\"color\": \"#E5ECF6\", \"width\": 0.5}}, \"type\": \"bar\"}], \"barpolar\": [{\"marker\": {\"line\": {\"color\": \"#E5ECF6\", \"width\": 0.5}}, \"type\": \"barpolar\"}], \"carpet\": [{\"aaxis\": {\"endlinecolor\": \"#2a3f5f\", \"gridcolor\": \"white\", \"linecolor\": \"white\", \"minorgridcolor\": \"white\", \"startlinecolor\": \"#2a3f5f\"}, \"baxis\": {\"endlinecolor\": \"#2a3f5f\", \"gridcolor\": \"white\", \"linecolor\": \"white\", \"minorgridcolor\": \"white\", \"startlinecolor\": \"#2a3f5f\"}, \"type\": \"carpet\"}], \"choropleth\": [{\"colorbar\": {\"outlinewidth\": 0, \"ticks\": \"\"}, \"type\": \"choropleth\"}], \"contour\": [{\"colorbar\": {\"outlinewidth\": 0, \"ticks\": \"\"}, \"colorscale\": [[0.0, \"#0d0887\"], [0.1111111111111111, \"#46039f\"], [0.2222222222222222, \"#7201a8\"], [0.3333333333333333, \"#9c179e\"], [0.4444444444444444, \"#bd3786\"], [0.5555555555555556, \"#d8576b\"], [0.6666666666666666, \"#ed7953\"], [0.7777777777777778, \"#fb9f3a\"], [0.8888888888888888, \"#fdca26\"], [1.0, \"#f0f921\"]], \"type\": \"contour\"}], \"contourcarpet\": [{\"colorbar\": {\"outlinewidth\": 0, \"ticks\": \"\"}, \"type\": \"contourcarpet\"}], \"heatmap\": [{\"colorbar\": {\"outlinewidth\": 0, \"ticks\": \"\"}, \"colorscale\": [[0.0, \"#0d0887\"], [0.1111111111111111, \"#46039f\"], [0.2222222222222222, \"#7201a8\"], [0.3333333333333333, \"#9c179e\"], [0.4444444444444444, \"#bd3786\"], [0.5555555555555556, \"#d8576b\"], [0.6666666666666666, \"#ed7953\"], [0.7777777777777778, \"#fb9f3a\"], [0.8888888888888888, \"#fdca26\"], [1.0, \"#f0f921\"]], \"type\": \"heatmap\"}], \"heatmapgl\": [{\"colorbar\": {\"outlinewidth\": 0, \"ticks\": \"\"}, \"colorscale\": [[0.0, \"#0d0887\"], [0.1111111111111111, \"#46039f\"], [0.2222222222222222, \"#7201a8\"], [0.3333333333333333, \"#9c179e\"], [0.4444444444444444, \"#bd3786\"], [0.5555555555555556, \"#d8576b\"], [0.6666666666666666, \"#ed7953\"], [0.7777777777777778, \"#fb9f3a\"], [0.8888888888888888, \"#fdca26\"], [1.0, \"#f0f921\"]], \"type\": \"heatmapgl\"}], \"histogram\": [{\"marker\": {\"colorbar\": {\"outlinewidth\": 0, \"ticks\": \"\"}}, \"type\": \"histogram\"}], \"histogram2d\": [{\"colorbar\": {\"outlinewidth\": 0, \"ticks\": \"\"}, \"colorscale\": [[0.0, \"#0d0887\"], [0.1111111111111111, \"#46039f\"], [0.2222222222222222, \"#7201a8\"], [0.3333333333333333, \"#9c179e\"], [0.4444444444444444, \"#bd3786\"], [0.5555555555555556, \"#d8576b\"], [0.6666666666666666, \"#ed7953\"], [0.7777777777777778, \"#fb9f3a\"], [0.8888888888888888, \"#fdca26\"], [1.0, \"#f0f921\"]], \"type\": \"histogram2d\"}], \"histogram2dcontour\": [{\"colorbar\": {\"outlinewidth\": 0, \"ticks\": \"\"}, \"colorscale\": [[0.0, \"#0d0887\"], [0.1111111111111111, \"#46039f\"], [0.2222222222222222, \"#7201a8\"], [0.3333333333333333, \"#9c179e\"], [0.4444444444444444, \"#bd3786\"], [0.5555555555555556, \"#d8576b\"], [0.6666666666666666, \"#ed7953\"], [0.7777777777777778, \"#fb9f3a\"], [0.8888888888888888, \"#fdca26\"], [1.0, \"#f0f921\"]], \"type\": \"histogram2dcontour\"}], \"mesh3d\": [{\"colorbar\": {\"outlinewidth\": 0, \"ticks\": \"\"}, \"type\": \"mesh3d\"}], \"parcoords\": [{\"line\": {\"colorbar\": {\"outlinewidth\": 0, \"ticks\": \"\"}}, \"type\": \"parcoords\"}], \"pie\": [{\"automargin\": true, \"type\": \"pie\"}], \"scatter\": [{\"marker\": {\"colorbar\": {\"outlinewidth\": 0, \"ticks\": \"\"}}, \"type\": \"scatter\"}], \"scatter3d\": [{\"line\": {\"colorbar\": {\"outlinewidth\": 0, \"ticks\": \"\"}}, \"marker\": {\"colorbar\": {\"outlinewidth\": 0, \"ticks\": \"\"}}, \"type\": \"scatter3d\"}], \"scattercarpet\": [{\"marker\": {\"colorbar\": {\"outlinewidth\": 0, \"ticks\": \"\"}}, \"type\": \"scattercarpet\"}], \"scattergeo\": [{\"marker\": {\"colorbar\": {\"outlinewidth\": 0, \"ticks\": \"\"}}, \"type\": \"scattergeo\"}], \"scattergl\": [{\"marker\": {\"colorbar\": {\"outlinewidth\": 0, \"ticks\": \"\"}}, \"type\": \"scattergl\"}], \"scattermapbox\": [{\"marker\": {\"colorbar\": {\"outlinewidth\": 0, \"ticks\": \"\"}}, \"type\": \"scattermapbox\"}], \"scatterpolar\": [{\"marker\": {\"colorbar\": {\"outlinewidth\": 0, \"ticks\": \"\"}}, \"type\": \"scatterpolar\"}], \"scatterpolargl\": [{\"marker\": {\"colorbar\": {\"outlinewidth\": 0, \"ticks\": \"\"}}, \"type\": \"scatterpolargl\"}], \"scatterternary\": [{\"marker\": {\"colorbar\": {\"outlinewidth\": 0, \"ticks\": \"\"}}, \"type\": \"scatterternary\"}], \"surface\": [{\"colorbar\": {\"outlinewidth\": 0, \"ticks\": \"\"}, \"colorscale\": [[0.0, \"#0d0887\"], [0.1111111111111111, \"#46039f\"], [0.2222222222222222, \"#7201a8\"], [0.3333333333333333, \"#9c179e\"], [0.4444444444444444, \"#bd3786\"], [0.5555555555555556, \"#d8576b\"], [0.6666666666666666, \"#ed7953\"], [0.7777777777777778, \"#fb9f3a\"], [0.8888888888888888, \"#fdca26\"], [1.0, \"#f0f921\"]], \"type\": \"surface\"}], \"table\": [{\"cells\": {\"fill\": {\"color\": \"#EBF0F8\"}, \"line\": {\"color\": \"white\"}}, \"header\": {\"fill\": {\"color\": \"#C8D4E3\"}, \"line\": {\"color\": \"white\"}}, \"type\": \"table\"}]}, \"layout\": {\"annotationdefaults\": {\"arrowcolor\": \"#2a3f5f\", \"arrowhead\": 0, \"arrowwidth\": 1}, \"coloraxis\": {\"colorbar\": {\"outlinewidth\": 0, \"ticks\": \"\"}}, \"colorscale\": {\"diverging\": [[0, \"#8e0152\"], [0.1, \"#c51b7d\"], [0.2, \"#de77ae\"], [0.3, \"#f1b6da\"], [0.4, \"#fde0ef\"], [0.5, \"#f7f7f7\"], [0.6, \"#e6f5d0\"], [0.7, \"#b8e186\"], [0.8, \"#7fbc41\"], [0.9, \"#4d9221\"], [1, \"#276419\"]], \"sequential\": [[0.0, \"#0d0887\"], [0.1111111111111111, \"#46039f\"], [0.2222222222222222, \"#7201a8\"], [0.3333333333333333, \"#9c179e\"], [0.4444444444444444, \"#bd3786\"], [0.5555555555555556, \"#d8576b\"], [0.6666666666666666, \"#ed7953\"], [0.7777777777777778, \"#fb9f3a\"], [0.8888888888888888, \"#fdca26\"], [1.0, \"#f0f921\"]], \"sequentialminus\": [[0.0, \"#0d0887\"], [0.1111111111111111, \"#46039f\"], [0.2222222222222222, \"#7201a8\"], [0.3333333333333333, \"#9c179e\"], [0.4444444444444444, \"#bd3786\"], [0.5555555555555556, \"#d8576b\"], [0.6666666666666666, \"#ed7953\"], [0.7777777777777778, \"#fb9f3a\"], [0.8888888888888888, \"#fdca26\"], [1.0, \"#f0f921\"]]}, \"colorway\": [\"#636efa\", \"#EF553B\", \"#00cc96\", \"#ab63fa\", \"#FFA15A\", \"#19d3f3\", \"#FF6692\", \"#B6E880\", \"#FF97FF\", \"#FECB52\"], \"font\": {\"color\": \"#2a3f5f\"}, \"geo\": {\"bgcolor\": \"white\", \"lakecolor\": \"white\", \"landcolor\": \"#E5ECF6\", \"showlakes\": true, \"showland\": true, \"subunitcolor\": \"white\"}, \"hoverlabel\": {\"align\": \"left\"}, \"hovermode\": \"closest\", \"mapbox\": {\"style\": \"light\"}, \"paper_bgcolor\": \"white\", \"plot_bgcolor\": \"#E5ECF6\", \"polar\": {\"angularaxis\": {\"gridcolor\": \"white\", \"linecolor\": \"white\", \"ticks\": \"\"}, \"bgcolor\": \"#E5ECF6\", \"radialaxis\": {\"gridcolor\": \"white\", \"linecolor\": \"white\", \"ticks\": \"\"}}, \"scene\": {\"xaxis\": {\"backgroundcolor\": \"#E5ECF6\", \"gridcolor\": \"white\", \"gridwidth\": 2, \"linecolor\": \"white\", \"showbackground\": true, \"ticks\": \"\", \"zerolinecolor\": \"white\"}, \"yaxis\": {\"backgroundcolor\": \"#E5ECF6\", \"gridcolor\": \"white\", \"gridwidth\": 2, \"linecolor\": \"white\", \"showbackground\": true, \"ticks\": \"\", \"zerolinecolor\": \"white\"}, \"zaxis\": {\"backgroundcolor\": \"#E5ECF6\", \"gridcolor\": \"white\", \"gridwidth\": 2, \"linecolor\": \"white\", \"showbackground\": true, \"ticks\": \"\", \"zerolinecolor\": \"white\"}}, \"shapedefaults\": {\"line\": {\"color\": \"#2a3f5f\"}}, \"ternary\": {\"aaxis\": {\"gridcolor\": \"white\", \"linecolor\": \"white\", \"ticks\": \"\"}, \"baxis\": {\"gridcolor\": \"white\", \"linecolor\": \"white\", \"ticks\": \"\"}, \"bgcolor\": \"#E5ECF6\", \"caxis\": {\"gridcolor\": \"white\", \"linecolor\": \"white\", \"ticks\": \"\"}}, \"title\": {\"x\": 0.05}, \"xaxis\": {\"automargin\": true, \"gridcolor\": \"white\", \"linecolor\": \"white\", \"ticks\": \"\", \"title\": {\"standoff\": 15}, \"zerolinecolor\": \"white\", \"zerolinewidth\": 2}, \"yaxis\": {\"automargin\": true, \"gridcolor\": \"white\", \"linecolor\": \"white\", \"ticks\": \"\", \"title\": {\"standoff\": 15}, \"zerolinecolor\": \"white\", \"zerolinewidth\": 2}}}, \"title\": {\"text\": \"<b>Precision and Recall by threshold\"}},\n",
       "                        {\"responsive\": true}\n",
       "                    ).then(function(){\n",
       "                            \n",
       "var gd = document.getElementById('20876c05-7fa4-4e21-9581-e7660ee04c46');\n",
       "var x = new MutationObserver(function (mutations, observer) {{\n",
       "        var display = window.getComputedStyle(gd).display;\n",
       "        if (!display || display === 'none') {{\n",
       "            console.log([gd, 'removed!']);\n",
       "            Plotly.purge(gd);\n",
       "            observer.disconnect();\n",
       "        }}\n",
       "}});\n",
       "\n",
       "// Listen for the removal of the full notebook cells\n",
       "var notebookContainer = gd.closest('#notebook-container');\n",
       "if (notebookContainer) {{\n",
       "    x.observe(notebookContainer, {childList: true});\n",
       "}}\n",
       "\n",
       "// Listen for the clearing of the current output cell\n",
       "var outputEl = gd.closest('.output');\n",
       "if (outputEl) {{\n",
       "    x.observe(outputEl, {childList: true});\n",
       "}}\n",
       "\n",
       "                        })\n",
       "                };\n",
       "                });\n",
       "            </script>\n",
       "        </div>"
      ]
     },
     "metadata": {},
     "output_type": "display_data"
    }
   ],
   "source": [
    "\n",
    "trace1=go.Scatter(\n",
    "                x=df_scores.threshold,\n",
    "                y=df_scores.precision,\n",
    "                mode='lines',\n",
    "                marker=dict(\n",
    "                size=5\n",
    "                ),\n",
    "            name=\"precision\",\n",
    "\n",
    "            )\n",
    "\n",
    "\n",
    "trace2=go.Scatter(\n",
    "                x=df_scores.threshold,\n",
    "                y=df_scores.recall,\n",
    "                mode='lines',\n",
    "                marker=dict(\n",
    "                size=5\n",
    "                ),\n",
    "            name=\"recall\",\n",
    "\n",
    "            )\n",
    "data = [trace1, trace2]\n",
    "    \n",
    "figure=go.Figure(\n",
    "    data=data,\n",
    "    layout=go.Layout(\n",
    "        title=f\"<b>Precision and Recall by threshold\",\n",
    "    \n",
    "    ))\n",
    "iplot(figure)"
   ]
  },
  {
   "cell_type": "markdown",
   "id": "c24190b2",
   "metadata": {},
   "source": [
    "### ROC curve"
   ]
  },
  {
   "cell_type": "markdown",
   "id": "d3a1da13",
   "metadata": {},
   "source": [
    "Find mos convenient way to calculate fpr and tpr needed to create ROC curve"
   ]
  },
  {
   "cell_type": "code",
   "execution_count": 101,
   "id": "e39d9594",
   "metadata": {},
   "outputs": [],
   "source": [
    "fpr, tpr, thresholds = roc_curve(df_pred.is_spam_true, df_pred.spam_proba)"
   ]
  },
  {
   "cell_type": "code",
   "execution_count": 102,
   "id": "ac9b7b4b",
   "metadata": {},
   "outputs": [
    {
     "data": {
      "application/vnd.plotly.v1+json": {
       "config": {
        "linkText": "Export to plotly.com",
        "plotlyServerURL": "https://plotly.com",
        "showLink": false
       },
       "data": [
        {
         "marker": {
          "size": 5
         },
         "mode": "lines",
         "name": "precision",
         "type": "scatter",
         "x": [
          0,
          0,
          0,
          0,
          0,
          0,
          0,
          0,
          0,
          0,
          0,
          0,
          0,
          0,
          0,
          0.001182033096926714,
          0.001182033096926714,
          0.002364066193853428,
          0.002364066193853428,
          0.0035460992907801418,
          0.0035460992907801418,
          0.004728132387706856,
          0.004728132387706856,
          0.008274231678486997,
          0.008274231678486997,
          0.015366430260047281,
          0.015366430260047281,
          0.02127659574468085,
          0.02127659574468085,
          0.022458628841607566,
          0.022458628841607566,
          0.037825059101654845,
          0.037825059101654845,
          0.04373522458628842,
          0.04373522458628842,
          0.04728132387706856,
          0.04728132387706856,
          0.05200945626477541,
          0.05200945626477541,
          0.05555555555555555,
          0.05555555555555555,
          0.07092198581560284,
          0.07092198581560284,
          0.1099290780141844,
          0.1099290780141844,
          0.15484633569739953,
          0.15484633569739953,
          0.20094562647754138,
          0.20094562647754138,
          0.23286052009456265,
          0.23286052009456265,
          0.24231678486997635,
          0.24231678486997635,
          0.30969267139479906,
          0.30969267139479906,
          0.5780141843971631,
          0.5780141843971631,
          1
         ],
         "y": [
          0,
          0.006493506493506494,
          0.01948051948051948,
          0.03896103896103896,
          0.05194805194805195,
          0.07142857142857142,
          0.08441558441558442,
          0.09740259740259741,
          0.18831168831168832,
          0.2012987012987013,
          0.24025974025974026,
          0.2532467532467532,
          0.38311688311688313,
          0.3961038961038961,
          0.564935064935065,
          0.564935064935065,
          0.7922077922077922,
          0.7922077922077922,
          0.8181818181818182,
          0.8181818181818182,
          0.8831168831168831,
          0.8831168831168831,
          0.8896103896103896,
          0.8896103896103896,
          0.8961038961038961,
          0.8961038961038961,
          0.9025974025974026,
          0.9025974025974026,
          0.9090909090909091,
          0.9090909090909091,
          0.9155844155844156,
          0.9155844155844156,
          0.922077922077922,
          0.922077922077922,
          0.9285714285714286,
          0.9285714285714286,
          0.935064935064935,
          0.935064935064935,
          0.9415584415584416,
          0.9415584415584416,
          0.948051948051948,
          0.948051948051948,
          0.9545454545454546,
          0.9545454545454546,
          0.961038961038961,
          0.961038961038961,
          0.9675324675324676,
          0.9675324675324676,
          0.974025974025974,
          0.974025974025974,
          0.9805194805194806,
          0.9805194805194806,
          0.987012987012987,
          0.987012987012987,
          0.9935064935064936,
          0.9935064935064936,
          1,
          1
         ]
        }
       ],
       "layout": {
        "template": {
         "data": {
          "bar": [
           {
            "error_x": {
             "color": "#2a3f5f"
            },
            "error_y": {
             "color": "#2a3f5f"
            },
            "marker": {
             "line": {
              "color": "#E5ECF6",
              "width": 0.5
             }
            },
            "type": "bar"
           }
          ],
          "barpolar": [
           {
            "marker": {
             "line": {
              "color": "#E5ECF6",
              "width": 0.5
             }
            },
            "type": "barpolar"
           }
          ],
          "carpet": [
           {
            "aaxis": {
             "endlinecolor": "#2a3f5f",
             "gridcolor": "white",
             "linecolor": "white",
             "minorgridcolor": "white",
             "startlinecolor": "#2a3f5f"
            },
            "baxis": {
             "endlinecolor": "#2a3f5f",
             "gridcolor": "white",
             "linecolor": "white",
             "minorgridcolor": "white",
             "startlinecolor": "#2a3f5f"
            },
            "type": "carpet"
           }
          ],
          "choropleth": [
           {
            "colorbar": {
             "outlinewidth": 0,
             "ticks": ""
            },
            "type": "choropleth"
           }
          ],
          "contour": [
           {
            "colorbar": {
             "outlinewidth": 0,
             "ticks": ""
            },
            "colorscale": [
             [
              0,
              "#0d0887"
             ],
             [
              0.1111111111111111,
              "#46039f"
             ],
             [
              0.2222222222222222,
              "#7201a8"
             ],
             [
              0.3333333333333333,
              "#9c179e"
             ],
             [
              0.4444444444444444,
              "#bd3786"
             ],
             [
              0.5555555555555556,
              "#d8576b"
             ],
             [
              0.6666666666666666,
              "#ed7953"
             ],
             [
              0.7777777777777778,
              "#fb9f3a"
             ],
             [
              0.8888888888888888,
              "#fdca26"
             ],
             [
              1,
              "#f0f921"
             ]
            ],
            "type": "contour"
           }
          ],
          "contourcarpet": [
           {
            "colorbar": {
             "outlinewidth": 0,
             "ticks": ""
            },
            "type": "contourcarpet"
           }
          ],
          "heatmap": [
           {
            "colorbar": {
             "outlinewidth": 0,
             "ticks": ""
            },
            "colorscale": [
             [
              0,
              "#0d0887"
             ],
             [
              0.1111111111111111,
              "#46039f"
             ],
             [
              0.2222222222222222,
              "#7201a8"
             ],
             [
              0.3333333333333333,
              "#9c179e"
             ],
             [
              0.4444444444444444,
              "#bd3786"
             ],
             [
              0.5555555555555556,
              "#d8576b"
             ],
             [
              0.6666666666666666,
              "#ed7953"
             ],
             [
              0.7777777777777778,
              "#fb9f3a"
             ],
             [
              0.8888888888888888,
              "#fdca26"
             ],
             [
              1,
              "#f0f921"
             ]
            ],
            "type": "heatmap"
           }
          ],
          "heatmapgl": [
           {
            "colorbar": {
             "outlinewidth": 0,
             "ticks": ""
            },
            "colorscale": [
             [
              0,
              "#0d0887"
             ],
             [
              0.1111111111111111,
              "#46039f"
             ],
             [
              0.2222222222222222,
              "#7201a8"
             ],
             [
              0.3333333333333333,
              "#9c179e"
             ],
             [
              0.4444444444444444,
              "#bd3786"
             ],
             [
              0.5555555555555556,
              "#d8576b"
             ],
             [
              0.6666666666666666,
              "#ed7953"
             ],
             [
              0.7777777777777778,
              "#fb9f3a"
             ],
             [
              0.8888888888888888,
              "#fdca26"
             ],
             [
              1,
              "#f0f921"
             ]
            ],
            "type": "heatmapgl"
           }
          ],
          "histogram": [
           {
            "marker": {
             "colorbar": {
              "outlinewidth": 0,
              "ticks": ""
             }
            },
            "type": "histogram"
           }
          ],
          "histogram2d": [
           {
            "colorbar": {
             "outlinewidth": 0,
             "ticks": ""
            },
            "colorscale": [
             [
              0,
              "#0d0887"
             ],
             [
              0.1111111111111111,
              "#46039f"
             ],
             [
              0.2222222222222222,
              "#7201a8"
             ],
             [
              0.3333333333333333,
              "#9c179e"
             ],
             [
              0.4444444444444444,
              "#bd3786"
             ],
             [
              0.5555555555555556,
              "#d8576b"
             ],
             [
              0.6666666666666666,
              "#ed7953"
             ],
             [
              0.7777777777777778,
              "#fb9f3a"
             ],
             [
              0.8888888888888888,
              "#fdca26"
             ],
             [
              1,
              "#f0f921"
             ]
            ],
            "type": "histogram2d"
           }
          ],
          "histogram2dcontour": [
           {
            "colorbar": {
             "outlinewidth": 0,
             "ticks": ""
            },
            "colorscale": [
             [
              0,
              "#0d0887"
             ],
             [
              0.1111111111111111,
              "#46039f"
             ],
             [
              0.2222222222222222,
              "#7201a8"
             ],
             [
              0.3333333333333333,
              "#9c179e"
             ],
             [
              0.4444444444444444,
              "#bd3786"
             ],
             [
              0.5555555555555556,
              "#d8576b"
             ],
             [
              0.6666666666666666,
              "#ed7953"
             ],
             [
              0.7777777777777778,
              "#fb9f3a"
             ],
             [
              0.8888888888888888,
              "#fdca26"
             ],
             [
              1,
              "#f0f921"
             ]
            ],
            "type": "histogram2dcontour"
           }
          ],
          "mesh3d": [
           {
            "colorbar": {
             "outlinewidth": 0,
             "ticks": ""
            },
            "type": "mesh3d"
           }
          ],
          "parcoords": [
           {
            "line": {
             "colorbar": {
              "outlinewidth": 0,
              "ticks": ""
             }
            },
            "type": "parcoords"
           }
          ],
          "pie": [
           {
            "automargin": true,
            "type": "pie"
           }
          ],
          "scatter": [
           {
            "marker": {
             "colorbar": {
              "outlinewidth": 0,
              "ticks": ""
             }
            },
            "type": "scatter"
           }
          ],
          "scatter3d": [
           {
            "line": {
             "colorbar": {
              "outlinewidth": 0,
              "ticks": ""
             }
            },
            "marker": {
             "colorbar": {
              "outlinewidth": 0,
              "ticks": ""
             }
            },
            "type": "scatter3d"
           }
          ],
          "scattercarpet": [
           {
            "marker": {
             "colorbar": {
              "outlinewidth": 0,
              "ticks": ""
             }
            },
            "type": "scattercarpet"
           }
          ],
          "scattergeo": [
           {
            "marker": {
             "colorbar": {
              "outlinewidth": 0,
              "ticks": ""
             }
            },
            "type": "scattergeo"
           }
          ],
          "scattergl": [
           {
            "marker": {
             "colorbar": {
              "outlinewidth": 0,
              "ticks": ""
             }
            },
            "type": "scattergl"
           }
          ],
          "scattermapbox": [
           {
            "marker": {
             "colorbar": {
              "outlinewidth": 0,
              "ticks": ""
             }
            },
            "type": "scattermapbox"
           }
          ],
          "scatterpolar": [
           {
            "marker": {
             "colorbar": {
              "outlinewidth": 0,
              "ticks": ""
             }
            },
            "type": "scatterpolar"
           }
          ],
          "scatterpolargl": [
           {
            "marker": {
             "colorbar": {
              "outlinewidth": 0,
              "ticks": ""
             }
            },
            "type": "scatterpolargl"
           }
          ],
          "scatterternary": [
           {
            "marker": {
             "colorbar": {
              "outlinewidth": 0,
              "ticks": ""
             }
            },
            "type": "scatterternary"
           }
          ],
          "surface": [
           {
            "colorbar": {
             "outlinewidth": 0,
             "ticks": ""
            },
            "colorscale": [
             [
              0,
              "#0d0887"
             ],
             [
              0.1111111111111111,
              "#46039f"
             ],
             [
              0.2222222222222222,
              "#7201a8"
             ],
             [
              0.3333333333333333,
              "#9c179e"
             ],
             [
              0.4444444444444444,
              "#bd3786"
             ],
             [
              0.5555555555555556,
              "#d8576b"
             ],
             [
              0.6666666666666666,
              "#ed7953"
             ],
             [
              0.7777777777777778,
              "#fb9f3a"
             ],
             [
              0.8888888888888888,
              "#fdca26"
             ],
             [
              1,
              "#f0f921"
             ]
            ],
            "type": "surface"
           }
          ],
          "table": [
           {
            "cells": {
             "fill": {
              "color": "#EBF0F8"
             },
             "line": {
              "color": "white"
             }
            },
            "header": {
             "fill": {
              "color": "#C8D4E3"
             },
             "line": {
              "color": "white"
             }
            },
            "type": "table"
           }
          ]
         },
         "layout": {
          "annotationdefaults": {
           "arrowcolor": "#2a3f5f",
           "arrowhead": 0,
           "arrowwidth": 1
          },
          "coloraxis": {
           "colorbar": {
            "outlinewidth": 0,
            "ticks": ""
           }
          },
          "colorscale": {
           "diverging": [
            [
             0,
             "#8e0152"
            ],
            [
             0.1,
             "#c51b7d"
            ],
            [
             0.2,
             "#de77ae"
            ],
            [
             0.3,
             "#f1b6da"
            ],
            [
             0.4,
             "#fde0ef"
            ],
            [
             0.5,
             "#f7f7f7"
            ],
            [
             0.6,
             "#e6f5d0"
            ],
            [
             0.7,
             "#b8e186"
            ],
            [
             0.8,
             "#7fbc41"
            ],
            [
             0.9,
             "#4d9221"
            ],
            [
             1,
             "#276419"
            ]
           ],
           "sequential": [
            [
             0,
             "#0d0887"
            ],
            [
             0.1111111111111111,
             "#46039f"
            ],
            [
             0.2222222222222222,
             "#7201a8"
            ],
            [
             0.3333333333333333,
             "#9c179e"
            ],
            [
             0.4444444444444444,
             "#bd3786"
            ],
            [
             0.5555555555555556,
             "#d8576b"
            ],
            [
             0.6666666666666666,
             "#ed7953"
            ],
            [
             0.7777777777777778,
             "#fb9f3a"
            ],
            [
             0.8888888888888888,
             "#fdca26"
            ],
            [
             1,
             "#f0f921"
            ]
           ],
           "sequentialminus": [
            [
             0,
             "#0d0887"
            ],
            [
             0.1111111111111111,
             "#46039f"
            ],
            [
             0.2222222222222222,
             "#7201a8"
            ],
            [
             0.3333333333333333,
             "#9c179e"
            ],
            [
             0.4444444444444444,
             "#bd3786"
            ],
            [
             0.5555555555555556,
             "#d8576b"
            ],
            [
             0.6666666666666666,
             "#ed7953"
            ],
            [
             0.7777777777777778,
             "#fb9f3a"
            ],
            [
             0.8888888888888888,
             "#fdca26"
            ],
            [
             1,
             "#f0f921"
            ]
           ]
          },
          "colorway": [
           "#636efa",
           "#EF553B",
           "#00cc96",
           "#ab63fa",
           "#FFA15A",
           "#19d3f3",
           "#FF6692",
           "#B6E880",
           "#FF97FF",
           "#FECB52"
          ],
          "font": {
           "color": "#2a3f5f"
          },
          "geo": {
           "bgcolor": "white",
           "lakecolor": "white",
           "landcolor": "#E5ECF6",
           "showlakes": true,
           "showland": true,
           "subunitcolor": "white"
          },
          "hoverlabel": {
           "align": "left"
          },
          "hovermode": "closest",
          "mapbox": {
           "style": "light"
          },
          "paper_bgcolor": "white",
          "plot_bgcolor": "#E5ECF6",
          "polar": {
           "angularaxis": {
            "gridcolor": "white",
            "linecolor": "white",
            "ticks": ""
           },
           "bgcolor": "#E5ECF6",
           "radialaxis": {
            "gridcolor": "white",
            "linecolor": "white",
            "ticks": ""
           }
          },
          "scene": {
           "xaxis": {
            "backgroundcolor": "#E5ECF6",
            "gridcolor": "white",
            "gridwidth": 2,
            "linecolor": "white",
            "showbackground": true,
            "ticks": "",
            "zerolinecolor": "white"
           },
           "yaxis": {
            "backgroundcolor": "#E5ECF6",
            "gridcolor": "white",
            "gridwidth": 2,
            "linecolor": "white",
            "showbackground": true,
            "ticks": "",
            "zerolinecolor": "white"
           },
           "zaxis": {
            "backgroundcolor": "#E5ECF6",
            "gridcolor": "white",
            "gridwidth": 2,
            "linecolor": "white",
            "showbackground": true,
            "ticks": "",
            "zerolinecolor": "white"
           }
          },
          "shapedefaults": {
           "line": {
            "color": "#2a3f5f"
           }
          },
          "ternary": {
           "aaxis": {
            "gridcolor": "white",
            "linecolor": "white",
            "ticks": ""
           },
           "baxis": {
            "gridcolor": "white",
            "linecolor": "white",
            "ticks": ""
           },
           "bgcolor": "#E5ECF6",
           "caxis": {
            "gridcolor": "white",
            "linecolor": "white",
            "ticks": ""
           }
          },
          "title": {
           "x": 0.05
          },
          "xaxis": {
           "automargin": true,
           "gridcolor": "white",
           "linecolor": "white",
           "ticks": "",
           "title": {
            "standoff": 15
           },
           "zerolinecolor": "white",
           "zerolinewidth": 2
          },
          "yaxis": {
           "automargin": true,
           "gridcolor": "white",
           "linecolor": "white",
           "ticks": "",
           "title": {
            "standoff": 15
           },
           "zerolinecolor": "white",
           "zerolinewidth": 2
          }
         }
        },
        "title": {
         "text": "<b>ROC curve"
        },
        "xaxis": {
         "title": {
          "text": "False positives rate"
         }
        },
        "yaxis": {
         "title": {
          "text": "True positives rate"
         }
        }
       }
      },
      "text/html": [
       "<div>\n",
       "        \n",
       "        \n",
       "            <div id=\"31dcd40c-4898-47d3-ace4-0683b8eecc82\" class=\"plotly-graph-div\" style=\"height:525px; width:100%;\"></div>\n",
       "            <script type=\"text/javascript\">\n",
       "                require([\"plotly\"], function(Plotly) {\n",
       "                    window.PLOTLYENV=window.PLOTLYENV || {};\n",
       "                    \n",
       "                if (document.getElementById(\"31dcd40c-4898-47d3-ace4-0683b8eecc82\")) {\n",
       "                    Plotly.newPlot(\n",
       "                        '31dcd40c-4898-47d3-ace4-0683b8eecc82',\n",
       "                        [{\"marker\": {\"size\": 5}, \"mode\": \"lines\", \"name\": \"precision\", \"type\": \"scatter\", \"x\": [0.0, 0.0, 0.0, 0.0, 0.0, 0.0, 0.0, 0.0, 0.0, 0.0, 0.0, 0.0, 0.0, 0.0, 0.0, 0.001182033096926714, 0.001182033096926714, 0.002364066193853428, 0.002364066193853428, 0.0035460992907801418, 0.0035460992907801418, 0.004728132387706856, 0.004728132387706856, 0.008274231678486997, 0.008274231678486997, 0.015366430260047281, 0.015366430260047281, 0.02127659574468085, 0.02127659574468085, 0.022458628841607566, 0.022458628841607566, 0.037825059101654845, 0.037825059101654845, 0.04373522458628842, 0.04373522458628842, 0.04728132387706856, 0.04728132387706856, 0.05200945626477541, 0.05200945626477541, 0.05555555555555555, 0.05555555555555555, 0.07092198581560284, 0.07092198581560284, 0.1099290780141844, 0.1099290780141844, 0.15484633569739953, 0.15484633569739953, 0.20094562647754138, 0.20094562647754138, 0.23286052009456265, 0.23286052009456265, 0.24231678486997635, 0.24231678486997635, 0.30969267139479906, 0.30969267139479906, 0.5780141843971631, 0.5780141843971631, 1.0], \"y\": [0.0, 0.006493506493506494, 0.01948051948051948, 0.03896103896103896, 0.05194805194805195, 0.07142857142857142, 0.08441558441558442, 0.09740259740259741, 0.18831168831168832, 0.2012987012987013, 0.24025974025974026, 0.2532467532467532, 0.38311688311688313, 0.3961038961038961, 0.564935064935065, 0.564935064935065, 0.7922077922077922, 0.7922077922077922, 0.8181818181818182, 0.8181818181818182, 0.8831168831168831, 0.8831168831168831, 0.8896103896103896, 0.8896103896103896, 0.8961038961038961, 0.8961038961038961, 0.9025974025974026, 0.9025974025974026, 0.9090909090909091, 0.9090909090909091, 0.9155844155844156, 0.9155844155844156, 0.922077922077922, 0.922077922077922, 0.9285714285714286, 0.9285714285714286, 0.935064935064935, 0.935064935064935, 0.9415584415584416, 0.9415584415584416, 0.948051948051948, 0.948051948051948, 0.9545454545454546, 0.9545454545454546, 0.961038961038961, 0.961038961038961, 0.9675324675324676, 0.9675324675324676, 0.974025974025974, 0.974025974025974, 0.9805194805194806, 0.9805194805194806, 0.987012987012987, 0.987012987012987, 0.9935064935064936, 0.9935064935064936, 1.0, 1.0]}],\n",
       "                        {\"template\": {\"data\": {\"bar\": [{\"error_x\": {\"color\": \"#2a3f5f\"}, \"error_y\": {\"color\": \"#2a3f5f\"}, \"marker\": {\"line\": {\"color\": \"#E5ECF6\", \"width\": 0.5}}, \"type\": \"bar\"}], \"barpolar\": [{\"marker\": {\"line\": {\"color\": \"#E5ECF6\", \"width\": 0.5}}, \"type\": \"barpolar\"}], \"carpet\": [{\"aaxis\": {\"endlinecolor\": \"#2a3f5f\", \"gridcolor\": \"white\", \"linecolor\": \"white\", \"minorgridcolor\": \"white\", \"startlinecolor\": \"#2a3f5f\"}, \"baxis\": {\"endlinecolor\": \"#2a3f5f\", \"gridcolor\": \"white\", \"linecolor\": \"white\", \"minorgridcolor\": \"white\", \"startlinecolor\": \"#2a3f5f\"}, \"type\": \"carpet\"}], \"choropleth\": [{\"colorbar\": {\"outlinewidth\": 0, \"ticks\": \"\"}, \"type\": \"choropleth\"}], \"contour\": [{\"colorbar\": {\"outlinewidth\": 0, \"ticks\": \"\"}, \"colorscale\": [[0.0, \"#0d0887\"], [0.1111111111111111, \"#46039f\"], [0.2222222222222222, \"#7201a8\"], [0.3333333333333333, \"#9c179e\"], [0.4444444444444444, \"#bd3786\"], [0.5555555555555556, \"#d8576b\"], [0.6666666666666666, \"#ed7953\"], [0.7777777777777778, \"#fb9f3a\"], [0.8888888888888888, \"#fdca26\"], [1.0, \"#f0f921\"]], \"type\": \"contour\"}], \"contourcarpet\": [{\"colorbar\": {\"outlinewidth\": 0, \"ticks\": \"\"}, \"type\": \"contourcarpet\"}], \"heatmap\": [{\"colorbar\": {\"outlinewidth\": 0, \"ticks\": \"\"}, \"colorscale\": [[0.0, \"#0d0887\"], [0.1111111111111111, \"#46039f\"], [0.2222222222222222, \"#7201a8\"], [0.3333333333333333, \"#9c179e\"], [0.4444444444444444, \"#bd3786\"], [0.5555555555555556, \"#d8576b\"], [0.6666666666666666, \"#ed7953\"], [0.7777777777777778, \"#fb9f3a\"], [0.8888888888888888, \"#fdca26\"], [1.0, \"#f0f921\"]], \"type\": \"heatmap\"}], \"heatmapgl\": [{\"colorbar\": {\"outlinewidth\": 0, \"ticks\": \"\"}, \"colorscale\": [[0.0, \"#0d0887\"], [0.1111111111111111, \"#46039f\"], [0.2222222222222222, \"#7201a8\"], [0.3333333333333333, \"#9c179e\"], [0.4444444444444444, \"#bd3786\"], [0.5555555555555556, \"#d8576b\"], [0.6666666666666666, \"#ed7953\"], [0.7777777777777778, \"#fb9f3a\"], [0.8888888888888888, \"#fdca26\"], [1.0, \"#f0f921\"]], \"type\": \"heatmapgl\"}], \"histogram\": [{\"marker\": {\"colorbar\": {\"outlinewidth\": 0, \"ticks\": \"\"}}, \"type\": \"histogram\"}], \"histogram2d\": [{\"colorbar\": {\"outlinewidth\": 0, \"ticks\": \"\"}, \"colorscale\": [[0.0, \"#0d0887\"], [0.1111111111111111, \"#46039f\"], [0.2222222222222222, \"#7201a8\"], [0.3333333333333333, \"#9c179e\"], [0.4444444444444444, \"#bd3786\"], [0.5555555555555556, \"#d8576b\"], [0.6666666666666666, \"#ed7953\"], [0.7777777777777778, \"#fb9f3a\"], [0.8888888888888888, \"#fdca26\"], [1.0, \"#f0f921\"]], \"type\": \"histogram2d\"}], \"histogram2dcontour\": [{\"colorbar\": {\"outlinewidth\": 0, \"ticks\": \"\"}, \"colorscale\": [[0.0, \"#0d0887\"], [0.1111111111111111, \"#46039f\"], [0.2222222222222222, \"#7201a8\"], [0.3333333333333333, \"#9c179e\"], [0.4444444444444444, \"#bd3786\"], [0.5555555555555556, \"#d8576b\"], [0.6666666666666666, \"#ed7953\"], [0.7777777777777778, \"#fb9f3a\"], [0.8888888888888888, \"#fdca26\"], [1.0, \"#f0f921\"]], \"type\": \"histogram2dcontour\"}], \"mesh3d\": [{\"colorbar\": {\"outlinewidth\": 0, \"ticks\": \"\"}, \"type\": \"mesh3d\"}], \"parcoords\": [{\"line\": {\"colorbar\": {\"outlinewidth\": 0, \"ticks\": \"\"}}, \"type\": \"parcoords\"}], \"pie\": [{\"automargin\": true, \"type\": \"pie\"}], \"scatter\": [{\"marker\": {\"colorbar\": {\"outlinewidth\": 0, \"ticks\": \"\"}}, \"type\": \"scatter\"}], \"scatter3d\": [{\"line\": {\"colorbar\": {\"outlinewidth\": 0, \"ticks\": \"\"}}, \"marker\": {\"colorbar\": {\"outlinewidth\": 0, \"ticks\": \"\"}}, \"type\": \"scatter3d\"}], \"scattercarpet\": [{\"marker\": {\"colorbar\": {\"outlinewidth\": 0, \"ticks\": \"\"}}, \"type\": \"scattercarpet\"}], \"scattergeo\": [{\"marker\": {\"colorbar\": {\"outlinewidth\": 0, \"ticks\": \"\"}}, \"type\": \"scattergeo\"}], \"scattergl\": [{\"marker\": {\"colorbar\": {\"outlinewidth\": 0, \"ticks\": \"\"}}, \"type\": \"scattergl\"}], \"scattermapbox\": [{\"marker\": {\"colorbar\": {\"outlinewidth\": 0, \"ticks\": \"\"}}, \"type\": \"scattermapbox\"}], \"scatterpolar\": [{\"marker\": {\"colorbar\": {\"outlinewidth\": 0, \"ticks\": \"\"}}, \"type\": \"scatterpolar\"}], \"scatterpolargl\": [{\"marker\": {\"colorbar\": {\"outlinewidth\": 0, \"ticks\": \"\"}}, \"type\": \"scatterpolargl\"}], \"scatterternary\": [{\"marker\": {\"colorbar\": {\"outlinewidth\": 0, \"ticks\": \"\"}}, \"type\": \"scatterternary\"}], \"surface\": [{\"colorbar\": {\"outlinewidth\": 0, \"ticks\": \"\"}, \"colorscale\": [[0.0, \"#0d0887\"], [0.1111111111111111, \"#46039f\"], [0.2222222222222222, \"#7201a8\"], [0.3333333333333333, \"#9c179e\"], [0.4444444444444444, \"#bd3786\"], [0.5555555555555556, \"#d8576b\"], [0.6666666666666666, \"#ed7953\"], [0.7777777777777778, \"#fb9f3a\"], [0.8888888888888888, \"#fdca26\"], [1.0, \"#f0f921\"]], \"type\": \"surface\"}], \"table\": [{\"cells\": {\"fill\": {\"color\": \"#EBF0F8\"}, \"line\": {\"color\": \"white\"}}, \"header\": {\"fill\": {\"color\": \"#C8D4E3\"}, \"line\": {\"color\": \"white\"}}, \"type\": \"table\"}]}, \"layout\": {\"annotationdefaults\": {\"arrowcolor\": \"#2a3f5f\", \"arrowhead\": 0, \"arrowwidth\": 1}, \"coloraxis\": {\"colorbar\": {\"outlinewidth\": 0, \"ticks\": \"\"}}, \"colorscale\": {\"diverging\": [[0, \"#8e0152\"], [0.1, \"#c51b7d\"], [0.2, \"#de77ae\"], [0.3, \"#f1b6da\"], [0.4, \"#fde0ef\"], [0.5, \"#f7f7f7\"], [0.6, \"#e6f5d0\"], [0.7, \"#b8e186\"], [0.8, \"#7fbc41\"], [0.9, \"#4d9221\"], [1, \"#276419\"]], \"sequential\": [[0.0, \"#0d0887\"], [0.1111111111111111, \"#46039f\"], [0.2222222222222222, \"#7201a8\"], [0.3333333333333333, \"#9c179e\"], [0.4444444444444444, \"#bd3786\"], [0.5555555555555556, \"#d8576b\"], [0.6666666666666666, \"#ed7953\"], [0.7777777777777778, \"#fb9f3a\"], [0.8888888888888888, \"#fdca26\"], [1.0, \"#f0f921\"]], \"sequentialminus\": [[0.0, \"#0d0887\"], [0.1111111111111111, \"#46039f\"], [0.2222222222222222, \"#7201a8\"], [0.3333333333333333, \"#9c179e\"], [0.4444444444444444, \"#bd3786\"], [0.5555555555555556, \"#d8576b\"], [0.6666666666666666, \"#ed7953\"], [0.7777777777777778, \"#fb9f3a\"], [0.8888888888888888, \"#fdca26\"], [1.0, \"#f0f921\"]]}, \"colorway\": [\"#636efa\", \"#EF553B\", \"#00cc96\", \"#ab63fa\", \"#FFA15A\", \"#19d3f3\", \"#FF6692\", \"#B6E880\", \"#FF97FF\", \"#FECB52\"], \"font\": {\"color\": \"#2a3f5f\"}, \"geo\": {\"bgcolor\": \"white\", \"lakecolor\": \"white\", \"landcolor\": \"#E5ECF6\", \"showlakes\": true, \"showland\": true, \"subunitcolor\": \"white\"}, \"hoverlabel\": {\"align\": \"left\"}, \"hovermode\": \"closest\", \"mapbox\": {\"style\": \"light\"}, \"paper_bgcolor\": \"white\", \"plot_bgcolor\": \"#E5ECF6\", \"polar\": {\"angularaxis\": {\"gridcolor\": \"white\", \"linecolor\": \"white\", \"ticks\": \"\"}, \"bgcolor\": \"#E5ECF6\", \"radialaxis\": {\"gridcolor\": \"white\", \"linecolor\": \"white\", \"ticks\": \"\"}}, \"scene\": {\"xaxis\": {\"backgroundcolor\": \"#E5ECF6\", \"gridcolor\": \"white\", \"gridwidth\": 2, \"linecolor\": \"white\", \"showbackground\": true, \"ticks\": \"\", \"zerolinecolor\": \"white\"}, \"yaxis\": {\"backgroundcolor\": \"#E5ECF6\", \"gridcolor\": \"white\", \"gridwidth\": 2, \"linecolor\": \"white\", \"showbackground\": true, \"ticks\": \"\", \"zerolinecolor\": \"white\"}, \"zaxis\": {\"backgroundcolor\": \"#E5ECF6\", \"gridcolor\": \"white\", \"gridwidth\": 2, \"linecolor\": \"white\", \"showbackground\": true, \"ticks\": \"\", \"zerolinecolor\": \"white\"}}, \"shapedefaults\": {\"line\": {\"color\": \"#2a3f5f\"}}, \"ternary\": {\"aaxis\": {\"gridcolor\": \"white\", \"linecolor\": \"white\", \"ticks\": \"\"}, \"baxis\": {\"gridcolor\": \"white\", \"linecolor\": \"white\", \"ticks\": \"\"}, \"bgcolor\": \"#E5ECF6\", \"caxis\": {\"gridcolor\": \"white\", \"linecolor\": \"white\", \"ticks\": \"\"}}, \"title\": {\"x\": 0.05}, \"xaxis\": {\"automargin\": true, \"gridcolor\": \"white\", \"linecolor\": \"white\", \"ticks\": \"\", \"title\": {\"standoff\": 15}, \"zerolinecolor\": \"white\", \"zerolinewidth\": 2}, \"yaxis\": {\"automargin\": true, \"gridcolor\": \"white\", \"linecolor\": \"white\", \"ticks\": \"\", \"title\": {\"standoff\": 15}, \"zerolinecolor\": \"white\", \"zerolinewidth\": 2}}}, \"title\": {\"text\": \"<b>ROC curve\"}, \"xaxis\": {\"title\": {\"text\": \"False positives rate\"}}, \"yaxis\": {\"title\": {\"text\": \"True positives rate\"}}},\n",
       "                        {\"responsive\": true}\n",
       "                    ).then(function(){\n",
       "                            \n",
       "var gd = document.getElementById('31dcd40c-4898-47d3-ace4-0683b8eecc82');\n",
       "var x = new MutationObserver(function (mutations, observer) {{\n",
       "        var display = window.getComputedStyle(gd).display;\n",
       "        if (!display || display === 'none') {{\n",
       "            console.log([gd, 'removed!']);\n",
       "            Plotly.purge(gd);\n",
       "            observer.disconnect();\n",
       "        }}\n",
       "}});\n",
       "\n",
       "// Listen for the removal of the full notebook cells\n",
       "var notebookContainer = gd.closest('#notebook-container');\n",
       "if (notebookContainer) {{\n",
       "    x.observe(notebookContainer, {childList: true});\n",
       "}}\n",
       "\n",
       "// Listen for the clearing of the current output cell\n",
       "var outputEl = gd.closest('.output');\n",
       "if (outputEl) {{\n",
       "    x.observe(outputEl, {childList: true});\n",
       "}}\n",
       "\n",
       "                        })\n",
       "                };\n",
       "                });\n",
       "            </script>\n",
       "        </div>"
      ]
     },
     "metadata": {},
     "output_type": "display_data"
    }
   ],
   "source": [
    "\n",
    "trace1=go.Scatter(\n",
    "                x=fpr,\n",
    "                y=tpr,\n",
    "                mode='lines',\n",
    "                marker=dict(\n",
    "                size=5\n",
    "                ),\n",
    "            name=\"precision\",\n",
    "\n",
    "            )\n",
    "\n",
    "data = [trace1]\n",
    "    \n",
    "figure=go.Figure(\n",
    "    data=data,\n",
    "    layout=go.Layout(\n",
    "        title=f\"<b>ROC curve\",\n",
    "        xaxis={\"title\":\"False positives rate\"},\n",
    "        yaxis={\"title\":\"True positives rate\"}\n",
    "    ))\n",
    "iplot(figure)"
   ]
  },
  {
   "cell_type": "markdown",
   "id": "a957d5f9",
   "metadata": {},
   "source": [
    "## Business value based approach to recall and precision"
   ]
  },
  {
   "cell_type": "markdown",
   "id": "5aeff2fa",
   "metadata": {},
   "source": [
    "False positives and False negatives costs loss in ads revenue displayed on email\n",
    "- Allowing a SPAM email to land in inbox costs 1 USD \n",
    "- Classyfing actual email as SPAM costs 2 USD"
   ]
  },
  {
   "cell_type": "code",
   "execution_count": 103,
   "id": "7eba71da",
   "metadata": {},
   "outputs": [],
   "source": [
    "def calculate_business_costs(df_scores, FP_cost, FN_cost):\n",
    "    df_scores[\"costs\"] = df_scores.FP*FP_cost + df_scores.FN*FN_cost\n",
    "    \n",
    "    return df_scores\n",
    "    \n",
    "    \n",
    "    \n"
   ]
  },
  {
   "cell_type": "code",
   "execution_count": 104,
   "id": "12113d71",
   "metadata": {},
   "outputs": [],
   "source": [
    "def metrics_by_threshold(df_pred):\n",
    "    metrics = []\n",
    "    for i in range(0,100):\n",
    "        threshold = i/100\n",
    "        df_pred[\"is_spam_hat\"] = np.where(df_pred.spam_proba>=threshold,1,0)\n",
    "        recall = recall_score(df_pred.is_spam_true, df_pred.is_spam_hat)\n",
    "        precision = precision_score(df_pred.is_spam_true, df_pred.is_spam_hat)\n",
    "        conf = confusion_matrix(df_pred.is_spam_true, df_pred.is_spam_hat)\n",
    "        FP  = conf[0,1]\n",
    "        FN = conf[1,0]\n",
    "        \n",
    "        metrics.append({\"threshold\":threshold,\n",
    "                       \"recall\":recall,\n",
    "                       \"precision\":precision, \n",
    "                       \"FP\":FP, \n",
    "                       \"FN\":FN})\n",
    "        \n",
    "    return pd.DataFrame(metrics)"
   ]
  },
  {
   "cell_type": "code",
   "execution_count": 105,
   "id": "71167bbb",
   "metadata": {},
   "outputs": [],
   "source": [
    "df_scores = metrics_by_threshold(df_pred)"
   ]
  },
  {
   "cell_type": "code",
   "execution_count": 106,
   "id": "3495235a",
   "metadata": {},
   "outputs": [],
   "source": [
    "df_scores = calculate_business_costs(df_scores, 2, 1)"
   ]
  },
  {
   "cell_type": "code",
   "execution_count": 107,
   "id": "509f6c3d",
   "metadata": {},
   "outputs": [
    {
     "data": {
      "text/html": [
       "<div>\n",
       "<style scoped>\n",
       "    .dataframe tbody tr th:only-of-type {\n",
       "        vertical-align: middle;\n",
       "    }\n",
       "\n",
       "    .dataframe tbody tr th {\n",
       "        vertical-align: top;\n",
       "    }\n",
       "\n",
       "    .dataframe thead th {\n",
       "        text-align: right;\n",
       "    }\n",
       "</style>\n",
       "<table border=\"1\" class=\"dataframe\">\n",
       "  <thead>\n",
       "    <tr style=\"text-align: right;\">\n",
       "      <th></th>\n",
       "      <th>threshold</th>\n",
       "      <th>recall</th>\n",
       "      <th>precision</th>\n",
       "      <th>FP</th>\n",
       "      <th>FN</th>\n",
       "      <th>costs</th>\n",
       "    </tr>\n",
       "  </thead>\n",
       "  <tbody>\n",
       "    <tr>\n",
       "      <th>84</th>\n",
       "      <td>0.84</td>\n",
       "      <td>0.883117</td>\n",
       "      <td>0.978417</td>\n",
       "      <td>3</td>\n",
       "      <td>18</td>\n",
       "      <td>24</td>\n",
       "    </tr>\n",
       "    <tr>\n",
       "      <th>80</th>\n",
       "      <td>0.80</td>\n",
       "      <td>0.883117</td>\n",
       "      <td>0.978417</td>\n",
       "      <td>3</td>\n",
       "      <td>18</td>\n",
       "      <td>24</td>\n",
       "    </tr>\n",
       "    <tr>\n",
       "      <th>81</th>\n",
       "      <td>0.81</td>\n",
       "      <td>0.883117</td>\n",
       "      <td>0.978417</td>\n",
       "      <td>3</td>\n",
       "      <td>18</td>\n",
       "      <td>24</td>\n",
       "    </tr>\n",
       "    <tr>\n",
       "      <th>82</th>\n",
       "      <td>0.82</td>\n",
       "      <td>0.883117</td>\n",
       "      <td>0.978417</td>\n",
       "      <td>3</td>\n",
       "      <td>18</td>\n",
       "      <td>24</td>\n",
       "    </tr>\n",
       "    <tr>\n",
       "      <th>83</th>\n",
       "      <td>0.83</td>\n",
       "      <td>0.883117</td>\n",
       "      <td>0.978417</td>\n",
       "      <td>3</td>\n",
       "      <td>18</td>\n",
       "      <td>24</td>\n",
       "    </tr>\n",
       "    <tr>\n",
       "      <th>...</th>\n",
       "      <td>...</td>\n",
       "      <td>...</td>\n",
       "      <td>...</td>\n",
       "      <td>...</td>\n",
       "      <td>...</td>\n",
       "      <td>...</td>\n",
       "    </tr>\n",
       "    <tr>\n",
       "      <th>4</th>\n",
       "      <td>0.04</td>\n",
       "      <td>0.896104</td>\n",
       "      <td>0.926174</td>\n",
       "      <td>11</td>\n",
       "      <td>16</td>\n",
       "      <td>38</td>\n",
       "    </tr>\n",
       "    <tr>\n",
       "      <th>3</th>\n",
       "      <td>0.03</td>\n",
       "      <td>0.896104</td>\n",
       "      <td>0.926174</td>\n",
       "      <td>11</td>\n",
       "      <td>16</td>\n",
       "      <td>38</td>\n",
       "    </tr>\n",
       "    <tr>\n",
       "      <th>2</th>\n",
       "      <td>0.02</td>\n",
       "      <td>0.896104</td>\n",
       "      <td>0.926174</td>\n",
       "      <td>11</td>\n",
       "      <td>16</td>\n",
       "      <td>38</td>\n",
       "    </tr>\n",
       "    <tr>\n",
       "      <th>1</th>\n",
       "      <td>0.01</td>\n",
       "      <td>0.896104</td>\n",
       "      <td>0.920000</td>\n",
       "      <td>12</td>\n",
       "      <td>16</td>\n",
       "      <td>40</td>\n",
       "    </tr>\n",
       "    <tr>\n",
       "      <th>0</th>\n",
       "      <td>0.00</td>\n",
       "      <td>1.000000</td>\n",
       "      <td>0.154000</td>\n",
       "      <td>846</td>\n",
       "      <td>0</td>\n",
       "      <td>1692</td>\n",
       "    </tr>\n",
       "  </tbody>\n",
       "</table>\n",
       "<p>100 rows × 6 columns</p>\n",
       "</div>"
      ],
      "text/plain": [
       "    threshold    recall  precision   FP  FN  costs\n",
       "84       0.84  0.883117   0.978417    3  18     24\n",
       "80       0.80  0.883117   0.978417    3  18     24\n",
       "81       0.81  0.883117   0.978417    3  18     24\n",
       "82       0.82  0.883117   0.978417    3  18     24\n",
       "83       0.83  0.883117   0.978417    3  18     24\n",
       "..        ...       ...        ...  ...  ..    ...\n",
       "4        0.04  0.896104   0.926174   11  16     38\n",
       "3        0.03  0.896104   0.926174   11  16     38\n",
       "2        0.02  0.896104   0.926174   11  16     38\n",
       "1        0.01  0.896104   0.920000   12  16     40\n",
       "0        0.00  1.000000   0.154000  846   0   1692\n",
       "\n",
       "[100 rows x 6 columns]"
      ]
     },
     "execution_count": 107,
     "metadata": {},
     "output_type": "execute_result"
    }
   ],
   "source": [
    "df_scores.sort_values(by=\"costs\")"
   ]
  },
  {
   "cell_type": "code",
   "execution_count": null,
   "id": "0fef108d",
   "metadata": {},
   "outputs": [],
   "source": []
  },
  {
   "cell_type": "code",
   "execution_count": null,
   "id": "5e41d58c",
   "metadata": {},
   "outputs": [],
   "source": []
  },
  {
   "cell_type": "code",
   "execution_count": null,
   "id": "5ad74053",
   "metadata": {},
   "outputs": [],
   "source": []
  },
  {
   "cell_type": "code",
   "execution_count": null,
   "id": "0b208ff5",
   "metadata": {},
   "outputs": [],
   "source": []
  },
  {
   "cell_type": "code",
   "execution_count": null,
   "id": "9f198589",
   "metadata": {},
   "outputs": [],
   "source": []
  },
  {
   "cell_type": "code",
   "execution_count": null,
   "id": "ffd545c9",
   "metadata": {},
   "outputs": [],
   "source": []
  },
  {
   "cell_type": "code",
   "execution_count": null,
   "id": "70afab08",
   "metadata": {},
   "outputs": [],
   "source": []
  },
  {
   "cell_type": "code",
   "execution_count": null,
   "id": "61ea1776",
   "metadata": {},
   "outputs": [],
   "source": []
  },
  {
   "cell_type": "code",
   "execution_count": null,
   "id": "4fa80f62",
   "metadata": {},
   "outputs": [],
   "source": []
  },
  {
   "cell_type": "code",
   "execution_count": null,
   "id": "d14519a5",
   "metadata": {},
   "outputs": [],
   "source": []
  }
 ],
 "metadata": {
  "kernelspec": {
   "display_name": "Python 3 (ipykernel)",
   "language": "python",
   "name": "python3"
  },
  "language_info": {
   "codemirror_mode": {
    "name": "ipython",
    "version": 3
   },
   "file_extension": ".py",
   "mimetype": "text/x-python",
   "name": "python",
   "nbconvert_exporter": "python",
   "pygments_lexer": "ipython3",
   "version": "3.8.12"
  },
  "toc": {
   "base_numbering": 1,
   "nav_menu": {},
   "number_sections": true,
   "sideBar": true,
   "skip_h1_title": false,
   "title_cell": "Table of Contents",
   "title_sidebar": "Contents",
   "toc_cell": false,
   "toc_position": {},
   "toc_section_display": true,
   "toc_window_display": false
  }
 },
 "nbformat": 4,
 "nbformat_minor": 5
}
